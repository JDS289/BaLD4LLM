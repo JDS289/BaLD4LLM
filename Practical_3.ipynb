{
  "nbformat": 4,
  "nbformat_minor": 0,
  "metadata": {
    "colab": {
      "provenance": [],
      "include_colab_link": true
    },
    "kernelspec": {
      "name": "python3",
      "display_name": "Python 3"
    },
    "language_info": {
      "name": "python"
    }
  },
  "cells": [
    {
      "cell_type": "markdown",
      "metadata": {
        "id": "view-in-github",
        "colab_type": "text"
      },
      "source": [
        "<a href=\"https://colab.research.google.com/github/JDS289/BaLD4LLM/blob/main/Practical_3.ipynb\" target=\"_parent\"><img src=\"https://colab.research.google.com/assets/colab-badge.svg\" alt=\"Open In Colab\"/></a>"
      ]
    },
    {
      "cell_type": "markdown",
      "source": [
        "# Practical 3\n",
        "\n",
        "### [Carl Henrik Ek](http://carlhenrik.com/), University of Cambridge\n",
        "\n",
        "### [Radzim Sendyka](https://www.cst.cam.ac.uk/people/rs2071), University of Cambridge\n",
        "\n",
        "### [Christian Cabrera](https://www.cst.cam.ac.uk/people/chc79), University of Cambridge\n",
        "\n",
        "### 2024-11-18"
      ],
      "metadata": {
        "id": "QOJhSKzTTQqf"
      }
    },
    {
      "cell_type": "markdown",
      "source": [
        "The check Session for this Practical is 21 November 2024\n",
        "\n",
        "Prerequisite: Practical 1, Practical 2"
      ],
      "metadata": {
        "id": "n5QW68vaTd0d"
      }
    },
    {
      "cell_type": "markdown",
      "source": [
        "**Abstract:**\n",
        "\n",
        "In this worksheet we will look at linear models. We will show a general framework for formulating models where the we have a set of response variables that we want to explain through a linear relation- ship from a set of explanatory variables. While many relationships are non-linear in nature it is often challenging to interpret and explain the results from non-linear models. Therefore, linear models remains very important as they provide a nice trade-off between explanation of the data while at the same time providing interpretable semantics.\n"
      ],
      "metadata": {
        "id": "KiXPiwOMTzKi"
      }
    },
    {
      "cell_type": "markdown",
      "source": [
        "# Generalised Linear Models"
      ],
      "metadata": {
        "id": "ZU0kq_yGTl6V"
      }
    },
    {
      "cell_type": "markdown",
      "source": [
        "We have a set of explanatory variables $x \\in X$ and a set of response variables $y \\in Y$. The data is provided to us in pairs $D = \\{x_i, y_i\\}_N$ where $x_i$ and $y_i$ are in correspondence. Our aim is to build a model that allows us to predict the response variable $y_i$ from its corresponding explanatory variable $x_i$.\n",
        "\n",
        "Linear regression makes the assumption that the relationship between the response variable and the explanatory variable can be written as a linear combination. Furthermore, it assumes that the observations of the response variable have been corrupted by an additive Gaussian noise process,\n",
        "\n",
        "$$\n",
        "y_i = \\sum_{i=1}^{d} \\beta_i x_{id} + E,\n",
        "$$\n",
        "\n",
        "where $E \\sim \\mathcal{N}(0, \\sigma^2)$.\n",
        "\n",
        "While both the explanatory and response variable are deterministic, due to the noise corrupting the observations, our predictions under the model are random. In order to extract a point estimate we therefore take the expected value,\n",
        "\n",
        "$$\n",
        "\\mathbb{E}[y_i | x_i] = \\mathbb{E} \\left( \\sum_{i=1}^{d} \\beta_i x_{id} + E \\right)\n",
        "$$\n",
        "\n",
        "$$\n",
        "= \\sum_{i=1}^{d} \\beta_i x_{id} + \\mathbb{E}[E]\n",
        "$$\n",
        "\n",
        "$$\n",
        "= \\sum_{i=1}^{d} \\beta_i x_{id} + 0.\n",
        "$$\n"
      ],
      "metadata": {
        "id": "nWsVHK1vT4Az"
      }
    },
    {
      "cell_type": "markdown",
      "source": [
        "Traditionally the linear regression model above is motivated by an additive noise assumption that corrupts the observed response. An equivalent explanation is to absorb the noise directly into the response variable and consider it a linear model of a\n",
        "normal distributed response,\n",
        "\n",
        "$$\n",
        "y_i = \\sum_{i=1}^{d} \\beta_i x_{id} + \\varepsilon,\n",
        "$$\n",
        "\n",
        "$$\n",
        "y_i + \\varepsilon = \\sum_{i=1}^{d} \\beta_i x_{id},\n",
        "$$\n",
        "\n",
        "$$\n",
        "\\hat{y}_i = \\sum_{i=1}^{d} \\beta_i x_{id},\n",
        "$$\n",
        "\n",
        "$$\n",
        "\\hat{y}_i \\sim \\mathcal{N} \\left( y_i, \\sigma^2 \\right) = \\mathcal{N} \\left( \\sum_{i=1}^{d} \\beta_i x_{id}, \\sigma^2 \\right),\n",
        "$$\n",
        "\n",
        "where, as we previously derived, the linear predictor directly parametrises the mean or the first moment of\n",
        "the random response variable."
      ],
      "metadata": {
        "id": "JFBQwgDQV3WS"
      }
    },
    {
      "cell_type": "markdown",
      "source": [
        "If we want to generalise the setting, we can think of scenarios where the response variable follows a different distribution. This could be a Bernoulli distributed response, as in binary classification, or Poisson distributed if we are describing discrete events. Specifically, we will look at models where the first moment of the response variable can be parametrised as a function of a linear combination of the explanatory variables,\n",
        "\n",
        "$$\n",
        "g(\\mathbb{E}[y_i | x_i]) = \\sum_{i=1}^{d} \\beta_i x_{id},\n",
        "$$\n",
        "\n",
        "where the function $g(\\cdot)$ is known as a link function, connecting the expected value and the linear predictor (for the linear regression case above the link function is the identity).\n",
        "\n",
        "While the above formulation is the one that is most commonly used in the statistics literature, in a machine learning setting we can think of a transformation of a linear mapping as\n",
        "\n",
        "$$\n",
        "\\mathbb{E}[y_i | x_i] = g^{-1} \\left( \\sum_{i=1}^{d} \\beta_i x_{id} \\right),\n",
        "$$\n",
        "\n",
        "If you are familiar with simple compositional function models, such as neural networks, you can see how these are recursive formulations of similar structures. An article that describes neural networks in the light of the models we will describe can be found [here](https://towardsdatascience.com/glms-part-iii-deep-neural-networks-as-recursive-generalized-linear-URL).\n"
      ],
      "metadata": {
        "id": "bD9yQbSxV-xq"
      }
    },
    {
      "cell_type": "markdown",
      "source": [
        "The class of models that can be described using the equations above are commonly referred to as Generalised Linear Models (GLM) (McCullagh et al., 1989), where the generalisation comes from the fact that we consider the response variable to follow an Exponential Dispersion Family distribution ([wiki](https://en.wikipedia.org/wiki/Exponential_dispersion_model)). This family is a rich class of probability distributions that contains most of the distributions you may be familiar with. Each distribution is defined through two parameters: the location parameter and a scale parameter. The link function plays the role of \"linking\" the value of the linear predictor to the location parameter of the distribution.\n",
        "\n",
        "Many classical statistical models can be written in the language of generalised linear models. Below, a list of models that fall into this category is shown ([source](https://online.stat.psu.edu/stat504/lesson/6/6.1)). Each model is characterised by three different components: an exponential dispersion family distribution of the response, a link function, and a linear predictor from the explanatory variables."
      ],
      "metadata": {
        "id": "PDOeeDUfW-R-"
      }
    },
    {
      "cell_type": "markdown",
      "source": [
        "<div align=\"center\">\n",
        "\n",
        "| Model                | Response Variable | Link              | Explanatory Variable |\n",
        "|----------------------|-------------------|-------------------|-----------------------|\n",
        "| Linear Regression    | Normal           | Identity          | Continuous            |\n",
        "| Logistic Regression  | Binomial         | Logit             | Mixed                 |\n",
        "| Poisson Regression   | Poisson          | Log               | Mixed                 |\n",
        "| ANOVA                | Normal           | Identity          | Categorical           |\n",
        "| ANCOVA               | Normal           | Identity          | Mixed                 |\n",
        "| Loglinear            | Poisson          | Log               | Categorical           |\n",
        "| Multinomial Response | Multinomial      | Generalized Logit | Mixed                 |\n"
      ],
      "metadata": {
        "id": "Rcy9r_fXXPpW"
      }
    },
    {
      "cell_type": "markdown",
      "source": [
        "The exponential dispersion family can be written in the following canonical form,\n",
        "\n",
        "$$\n",
        "f(y; \\theta, \\phi) = \\exp \\left( \\frac{\\theta y - b(\\theta)}{a(\\phi)} + c(y, \\phi) \\right),\n",
        "$$\n",
        "\n",
        "where $\\theta$ is the location and $\\phi$ the scale parameter, respectively. A special instantiation of this is the Gaussian distribution,\n",
        "\n",
        "$$\n",
        "f(y; \\mu, \\sigma^2) = \\exp \\left( \\frac{\\mu y - \\frac{1}{2} \\mu^2}{\\sigma^2} - \\frac{y^2}{2\\sigma^2} - \\frac{1}{2} \\ln(2\\pi\\sigma^2) \\right),\n",
        "$$\n",
        "\n",
        "where we can identify,\n",
        "\n",
        "$$\n",
        "\\theta = \\mu\n",
        "$$\n",
        "\n",
        "$$\n",
        "\\phi = \\sigma^2\n",
        "$$\n",
        "\n",
        "$$\n",
        "b(\\theta) = \\frac{1}{2} \\theta^2\n",
        "$$\n",
        "\n",
        "$$\n",
        "a(\\phi) = \\phi\n",
        "$$\n",
        "\n",
        "$$\n",
        "c(y, \\phi) = \\frac{y^2}{2\\phi} - \\frac{1}{2} \\ln(2\\pi\\phi)\n",
        "$$\n",
        "\n",
        "The benefit of writing the distribution in this general form is that we can easily derive a general expression for both the first and the second moments of the predictive distribution,\n",
        "\n",
        "$$\n",
        "\\mathbb{E}[y | x] = \\frac{\\partial}{\\partial \\theta} b(\\theta)\n",
        "$$\n",
        "\n",
        "$$\n",
        "\\mathbb{V}[y | x] = a(\\phi) \\frac{\\partial^2}{\\partial \\theta^2} b(\\theta).\n",
        "$$\n",
        "\n",
        "This means that given a GLM, we can compute predictions and our uncertainty about those predictions in closed form. We will now proceed to look at how we can fit these models to data and learn the parameters $\\beta$ that connect the explanatory variables with the response.\n"
      ],
      "metadata": {
        "id": "nEFXCAwpW_6J"
      }
    },
    {
      "cell_type": "markdown",
      "source": [
        "# Learning Generalised Linear Models"
      ],
      "metadata": {
        "id": "bJqkJsZFXkBx"
      }
    },
    {
      "cell_type": "markdown",
      "source": [
        "Fitting the GLM models described above to data implies learning the parameters $\\beta$ of the linear predictor. We will do so by finding the maximum likelihood estimate. By specifying the distribution of the response variable, we have in effect specified a likelihood of each individual data-point. To reach the joint likelihood of each response variable, we will make the assumption that each observed response is conditionally independent given the parameters and the explanatory variables. This leads to the following objective function,\n",
        "\n",
        "$$\n",
        "\\hat{\\beta} = \\arg \\max_{\\beta} \\prod_{i=1}^{N} p(y_i | x_i, \\beta).\n",
        "$$\n",
        "\n",
        "GLM models are very well studied in the literature, and many different highly efficient approaches exist for fitting the parameters to data. While this is an interesting topic in itself, it is beyond the scope of this course. Instead, we will put our trust in the very well-documented library [Statsmodels](https://www.statsmodels.org) rather than implementing this ourselves.\n",
        "\n",
        "Below, the code for implementing two separate GLM models is shown. The data is count data, and the most suitable model would be a Poisson regression model for this type. In addition, we also include a standard Gaussian linear model with a single parameter parametrising the slope of the line.\n",
        "\n",
        "The output figure will show the output of fitting a Poisson regression model in red and the Gaussian model in cyan. The dotted lines shows the 95% confidence interval for the **parameters** of the fit. We should see the fit is (not surprisingly) much worse for the Gaussian model compared to the Poisson."
      ],
      "metadata": {
        "id": "TyCypSgbXziF"
      }
    },
    {
      "cell_type": "code",
      "source": [
        "# imports\n",
        "import numpy as np\n",
        "import matplotlib.pyplot as plt\n",
        "import statsmodels.api as sm"
      ],
      "metadata": {
        "id": "6FZ29KaMeO5f"
      },
      "execution_count": 2,
      "outputs": []
    },
    {
      "cell_type": "code",
      "source": [
        "# generate data\n",
        "x = np.array([[i] for i in np.random.choice(range(1,10), 20)])\n",
        "y = np.array([np.exp(i) + np.random.normal(0,0.25*np.exp(i),1)[0] for i in x])\n",
        "\n",
        "# make sure that the values are positive\n",
        "y[y<0] = 0\n",
        "\n",
        "# create models\n",
        "m_poisson = sm.GLM(y,x, family=sm.families.Poisson())\n",
        "m_poisson_results = m_poisson.fit()\n",
        "\n",
        "m_gaussian = sm.GLM(y,x, family=sm.families.Gaussian())\n",
        "m_gaussian_results = m_gaussian.fit()\n",
        "\n",
        "# prediction\n",
        "x_pred = np.arange(1,11).reshape(-1,1)\n",
        "y_pred = m_poisson_results.get_prediction(x_pred).summary_frame(alpha=0.05)\n",
        "\n",
        "y_pred_gaussian = m_gaussian_results.get_prediction(x_pred).summary_frame(alpha=0.05)\n",
        "\n",
        "# plot results\n",
        "fig = plt.figure(figsize=(10,5))\n",
        "ax = fig.add_subplot(111)\n",
        "\n",
        "plt.scatter(x,y,marker='X',color='blue',edgecolor='black',s=100,alpha=0.5,zorder=1)\n",
        "\n",
        "plt.plot(x_pred,y_pred['mean'],color='red',linewidth=3.0,zorder=2)\n",
        "plt.plot(x_pred,y_pred['mean_ci_lower'], color='red',linestyle='--',zorder=2)\n",
        "plt.plot(x_pred,y_pred['mean_ci_upper'], color='red',linestyle='--',zorder=2)\n",
        "\n",
        "plt.plot(x_pred,y_pred_gaussian['mean'],color='cyan',linewidth=3.0,zorder=2)\n",
        "plt.plot(x_pred,y_pred_gaussian['mean_ci_lower'], color='cyan',linestyle='--',zorder=2)\n",
        "plt.plot(x_pred,y_pred_gaussian['mean_ci_upper'], color='cyan',linestyle='--',zorder=2)\n",
        "\n",
        "fig.text(.05, -.06, \"Figure 1. The figure above shows the output of fitting a Poisson regression model in red and the Gaussian model in cyan. The dotted\\nlines show the 95% confidence interval for the parameters of the fit. As we can see the fit is (not surprisingly) much worse for the\\nGaussian model compared to the Poisson.\")\n",
        "\n",
        "plt.tight_layout()"
      ],
      "metadata": {
        "id": "FD9DQanHTn3m",
        "colab": {
          "base_uri": "https://localhost:8080/",
          "height": 555
        },
        "outputId": "fbf9f158-aa5c-496a-e56f-f15377cb9fd7"
      },
      "execution_count": 3,
      "outputs": [
        {
          "output_type": "display_data",
          "data": {
            "text/plain": [
              "<Figure size 1000x500 with 1 Axes>"
            ],
            "image/png": "[encoded data removed]"
          },
          "metadata": {}
        }
      ]
    },
    {
      "cell_type": "markdown",
      "source": [
        "The important part of the code above is the `m_poisson = sm.GLM(y,x, family=sm.families.Poisson())` call where we specify the distribution of the of the response variable. Statsmodels currently implements the following distributions, Binomial, Gamma, Gaussian, InverseGaussian, NegativeBinomial, Poisson, Tweedie which should give you a rich playground of models to work with."
      ],
      "metadata": {
        "id": "txUExP_gaBqc"
      }
    },
    {
      "cell_type": "markdown",
      "source": [
        "# Basis-function Models"
      ],
      "metadata": {
        "id": "y6yrdqiaZtEH"
      }
    },
    {
      "cell_type": "markdown",
      "source": [
        "In the framework we have described above, the linear prediction is directly on the explanatory variables. However, we can generalise this slightly if we instead want to perform the regression over a set of basis functions. In statistics, we often refer to the matrix of the explanatory variables as the design matrix of the data. We can easily \"design\" a matrix that maps the explanatory variables to a \"feature space\" and then perform the regression over this domain instead.\n",
        "\n",
        "In Figure 1, the cyan plot uses only a single parameter in its prediction and is therefore only able to parametrise lines that intersect at $(0, 0)$. In order to also parametrise the intersection of the line in the model, we require an expansion of the input domain with a constant one, as follows:\n",
        "\n",
        "$$\n",
        "X =\n",
        "\\begin{bmatrix}\n",
        "x_0 & 1 \\\\\n",
        "x_1 & 1 \\\\\n",
        "\\vdots & \\vdots \\\\\n",
        "x_N & 1 \\\\\n",
        "\\end{bmatrix}\n",
        "$$\n",
        "\n",
        "Using the above as the explanatory variables, we will be able to fit both the intersection and the slope. However, we can take this concept further and generalise this to perform regression over a different expanded explanatory space. Say that we know that the relationship between the response and the explanatory variables is:\n",
        "\n",
        "$$\n",
        "y = \\beta_0 \\sin(x) + \\beta_1 \\sin\\left(\\frac{x^2}{40}\\right) + \\beta_2 x.\n",
        "$$\n",
        "\n",
        "We can now create a new design matrix that includes all the functions we need and apply the GLM framework as before:\n",
        "\n",
        "$$\n",
        "\\begin{bmatrix}\n",
        "\\sin(x_0) & \\sin\\left(\\frac{x_0^2}{40}\\right) & x_0 \\\\\n",
        "\\sin(x_1) & \\sin\\left(\\frac{x_1^2}{40}\\right) & x_1 \\\\\n",
        "\\vdots & \\vdots & \\vdots \\\\\n",
        "\\sin(x_N) & \\sin\\left(\\frac{x_N^2}{40}\\right) & x_N \\\\\n",
        "\\end{bmatrix}\n",
        "$$\n"
      ],
      "metadata": {
        "id": "UzpMLuUwZzSn"
      }
    },
    {
      "cell_type": "markdown",
      "source": [
        "Below we will implement this using the `OLS` model which is just a Gaussian response and an identity link function. The motivation for using `OLS` rather than `GLM` is that the former provides easier means of analysing\n",
        "predictions.\n",
        "\n",
        "The resulting figure shows fitting a linear Gaussian model to a non-linear function. The prediction in red shows the model where the design matrix is directly on the explanatory variables while the cyan uses a design matrix of non-linear functions."
      ],
      "metadata": {
        "id": "lM2qI0FWbAY0"
      }
    },
    {
      "cell_type": "code",
      "source": [
        "# imports\n",
        "import numpy as np\n",
        "import matplotlib.pyplot as plt\n",
        "import statsmodels.api as sm"
      ],
      "metadata": {
        "id": "CB7pCl86Qjwp"
      },
      "execution_count": null,
      "outputs": []
    },
    {
      "cell_type": "code",
      "source": [
        "np.random.seed(42)\n",
        "\n",
        "# Generate data\n",
        "x = np.linspace(0, 15, 50)\n",
        "y = 0.2 * np.sin(x) + 0.5 * np.sin(x**2 / 40) + 0.05 * x\n",
        "y += 0.05 * np.random.randn(x.shape[0])\n",
        "\n",
        "# Fit a simple linear model\n",
        "m_linear = sm.OLS(y, x)\n",
        "results = m_linear.fit()\n",
        "\n",
        "# Design matrix with basis functions\n",
        "design = np.concatenate((np.sin(x).reshape(-1, 1), np.sin(x**2 / 40).reshape(-1, 1), x.reshape(-1, 1)), axis=1)\n",
        "m_linear_basis = sm.OLS(y, design)\n",
        "results_basis = m_linear_basis.fit()\n",
        "\n",
        "# Predictions\n",
        "x_pred = np.linspace(-5, 20, 200).reshape(-1, 1)\n",
        "design_pred = np.concatenate((np.sin(x_pred), np.sin(x_pred**2 / 40), x_pred), axis=1)\n",
        "\n",
        "y_pred_linear = results.get_prediction(x_pred).summary_frame(alpha=0.05)\n",
        "y_pred_linear_basis = results_basis.get_prediction(design_pred).summary_frame(alpha=0.05)\n",
        "\n",
        "# Plotting\n",
        "fig = plt.figure(figsize=(10, 5))\n",
        "ax = fig.add_subplot(111)\n",
        "ax.scatter(x, y, zorder=2)\n",
        "\n",
        "# Linear model predictions\n",
        "ax.plot(x_pred, y_pred_linear['mean'], color='red', linestyle='--', zorder=1)\n",
        "ax.plot(x_pred, y_pred_linear['obs_ci_lower'], color='red', linestyle='-', zorder=1)\n",
        "ax.plot(x_pred, y_pred_linear['obs_ci_upper'], color='red', linestyle='-', zorder=1)\n",
        "ax.fill_between(x_pred.flatten(), y_pred_linear['obs_ci_lower'], y_pred_linear['obs_ci_upper'], color='red', alpha=0.3, zorder=1)\n",
        "\n",
        "# Basis model predictions\n",
        "ax.plot(x_pred, y_pred_linear_basis['mean'], color='cyan', linestyle='--', zorder=1)\n",
        "ax.plot(x_pred, y_pred_linear_basis['obs_ci_lower'], color='cyan', linestyle='-', zorder=1)\n",
        "ax.plot(x_pred, y_pred_linear_basis['obs_ci_upper'], color='cyan', linestyle='-', zorder=1)\n",
        "ax.fill_between(x_pred.flatten(), y_pred_linear_basis['obs_ci_lower'], y_pred_linear_basis['obs_ci_upper'], color='cyan', alpha=0.3, zorder=1)\n",
        "\n",
        "fig.text(.05, -.05, \"Figure 2. The figure above shows fitting a linear Gaussian model to a non-linear function. The prediction in red shows the model where\\nthe design matrix is directly on the explanatory variables while the cyan uses a design matrix of non-linear functions.\")\n",
        "\n",
        "plt.tight_layout()\n",
        "plt.show()\n"
      ],
      "metadata": {
        "id": "YnZBABc1ZyDy"
      },
      "execution_count": null,
      "outputs": []
    },
    {
      "cell_type": "markdown",
      "source": [
        "The figure above shows fitting a linear Gaussian model to a non-linear function. The prediction\n",
        "in red shows the model where the design matrix is directly on the explanatory variables while the cyan uses\n",
        "a design matrix of non-linear functions."
      ],
      "metadata": {
        "id": "NgIKa29hkgoi"
      }
    },
    {
      "cell_type": "code",
      "source": [
        "print(results_basis.summary())"
      ],
      "metadata": {
        "id": "chqqeaZRbc5I"
      },
      "execution_count": null,
      "outputs": []
    },
    {
      "cell_type": "markdown",
      "source": [
        "Furthermore, if we look at the log-likelihood of the two models we can see that it is substantially higher\n",
        "for the second models compared to the first. This indicates, as we can see visually, that the second design\n",
        "matrix results in a much better fit to the data.\n",
        "\n",
        "While the example above worked well maybe it felt a bit contrived as we basically needed to know the function a-priori. So how about using a design matrix with additional basis function $-np.sin(x)$."
      ],
      "metadata": {
        "id": "E87Zqbzobvi0"
      }
    },
    {
      "cell_type": "code",
      "source": [
        "import numpy as np\n",
        "import matplotlib.pyplot as plt\n",
        "import statsmodels.api as sm"
      ],
      "metadata": {
        "id": "G0epvXc0oYvo"
      },
      "execution_count": null,
      "outputs": []
    },
    {
      "cell_type": "code",
      "source": [
        "np.random.seed(42)\n",
        "\n",
        "# Generate data\n",
        "x = np.linspace(0, 15, 50)\n",
        "y = 0.2 * np.sin(x) + 0.5 * np.sin(x**2 / 40) + 0.05 * x\n",
        "y += 0.05 * np.random.randn(x.shape[0])\n",
        "\n",
        "# Fit a simple linear model\n",
        "m_linear = sm.OLS(y, x)\n",
        "results = m_linear.fit()\n",
        "\n",
        "# Design matrix with additional basis function -np.sin(x)\n",
        "design = np.concatenate((\n",
        "    np.sin(x).reshape(-1, 1),\n",
        "    np.sin(x**2 / 40).reshape(-1, 1),\n",
        "    x.reshape(-1, 1),\n",
        "    -np.sin(x).reshape(-1, 1)\n",
        "), axis=1)\n",
        "m_linear_basis = sm.OLS(y, design)\n",
        "results_basis = m_linear_basis.fit()\n",
        "\n",
        "# Predictions\n",
        "x_pred = np.linspace(-5, 20, 200).reshape(-1, 1)\n",
        "design_pred = np.concatenate((\n",
        "    np.sin(x_pred),\n",
        "    np.sin(x_pred**2 / 40),\n",
        "    x_pred,\n",
        "    -np.sin(x_pred)\n",
        "), axis=1)\n",
        "\n",
        "y_pred_linear = results.get_prediction(x_pred).summary_frame(alpha=0.05)\n",
        "y_pred_linear_basis = results_basis.get_prediction(design_pred).summary_frame(alpha=0.05)\n",
        "\n",
        "# Plotting\n",
        "fig = plt.figure(figsize=(10, 5))\n",
        "ax = fig.add_subplot(111)\n",
        "ax.scatter(x, y, zorder=2)\n",
        "\n",
        "# Linear model predictions\n",
        "ax.plot(x_pred, y_pred_linear['mean'], color='red', linestyle='--', zorder=1)\n",
        "ax.plot(x_pred, y_pred_linear['obs_ci_lower'], color='red', linestyle='-', zorder=1)\n",
        "ax.plot(x_pred, y_pred_linear['obs_ci_upper'], color='red', linestyle='-', zorder=1)\n",
        "ax.fill_between(x_pred.flatten(), y_pred_linear['obs_ci_lower'], y_pred_linear['obs_ci_upper'], color='red', alpha=0.3, zorder=1)\n",
        "\n",
        "# Basis model predictions\n",
        "ax.plot(x_pred, y_pred_linear_basis['mean'], color='cyan', linestyle='--', zorder=1)\n",
        "ax.plot(x_pred, y_pred_linear_basis['obs_ci_lower'], color='cyan', linestyle='-', zorder=1)\n",
        "ax.plot(x_pred, y_pred_linear_basis['obs_ci_upper'], color='cyan', linestyle='-', zorder=1)\n",
        "ax.fill_between(x_pred.flatten(), y_pred_linear_basis['obs_ci_lower'], y_pred_linear_basis['obs_ci_upper'], color='cyan', alpha=0.3, zorder=1)\n",
        "\n",
        "fig.text(.05, -.05, \"Figure 3. The figure above shows fitting a linear Gaussian model to a non-linear function. The prediction in red shows the model where\\nthe design matrix is directly on the explanatory variables while the cyan uses a design matrix of non-linear functions.\")\n",
        "\n",
        "plt.tight_layout()\n",
        "plt.show()"
      ],
      "metadata": {
        "id": "Eejbi9SwbnYX"
      },
      "execution_count": null,
      "outputs": []
    },
    {
      "cell_type": "code",
      "source": [
        "print(results_basis.summary())"
      ],
      "metadata": {
        "id": "2UNwvdKrRQu8"
      },
      "execution_count": null,
      "outputs": []
    },
    {
      "cell_type": "markdown",
      "source": [
        "As you can see from the the last example if we have multiple possible explanations we end up with a model where there are several symmetric explanations that cannot be differentiated under the objective function.\n",
        "To overcome we have to encode a *preference* to the solution we want."
      ],
      "metadata": {
        "id": "5jRmYCkrb2D7"
      }
    },
    {
      "cell_type": "markdown",
      "source": [
        "# Regularisation"
      ],
      "metadata": {
        "id": "sgcOQ4QWcQHz"
      }
    },
    {
      "cell_type": "markdown",
      "source": [
        "In order to encode a preference towards specific solutions, we will include an additional term in the objective that depends only on the parameters $\\beta$. This is commonly done using an $L_p$-norm:\n",
        "\n",
        "$$\n",
        "\\hat{\\beta} = \\arg \\max_{\\beta} \\prod_{i=1}^{N} p(y_i | x_i, \\beta) + \\alpha \\left( \\sum_{j=1}^{d} |\\beta_j|^p \\right)^{\\frac{1}{p}}.\n",
        "$$\n",
        "\n",
        "The two most commonly used norms are the $L_2$, referred to as *ridge regression*, as it encodes a preference towards solutions where the parameters take equally large values, and $L_1$, referred to as *lasso*, as it prefers solutions that \"home in\" on a few active parameters to explain the data.\n",
        "\n",
        "The following plot shows the regularisation surfaces of $L_2$ in blue and $L_1$ regularisation in red."
      ],
      "metadata": {
        "id": "odloI0codMWB"
      }
    },
    {
      "cell_type": "code",
      "source": [
        "plt.plot([1, 0, -1, 0, 1], [0, 1, 0, -1, 0], 'r')  # L1\n",
        "plt.plot(np.cos(np.linspace(0, 2 * np.pi, 100)), np.sin(np.linspace(0, 2 * np.pi, 100)), 'b')  # L2\n",
        "\n",
        "plt.gca().set_aspect('equal', 'box'), plt.axhline(0, color='k', linewidth=0.5), plt.axvline(0, color='k', linewidth=0.5)\n",
        "plt.show()"
      ],
      "metadata": {
        "id": "2F9ZME34dMhe"
      },
      "execution_count": null,
      "outputs": []
    },
    {
      "cell_type": "markdown",
      "source": [
        "In `statsmodels` we can use the regularisation above by changing the call to fit the model from `fit` to `fit_regularised`. Taking two additional scalar parameters `alpha` and `L1_wt` where the former sets the strength of regularizer and the latter balances the L1 and L2 regularization."
      ],
      "metadata": {
        "id": "D2IzzQMxeqV3"
      }
    },
    {
      "cell_type": "code",
      "source": [
        "np.random.seed(42)\n",
        "\n",
        "# Generate data\n",
        "x = np.linspace(0, 15, 50)\n",
        "y = 0.2 * np.sin(x) + 0.5 * np.sin(x**2 / 40) + 0.05 * x\n",
        "y += 0.05 * np.random.randn(x.shape[0])\n",
        "\n",
        "# Create design matrix\n",
        "design = np.concatenate((np.sin(x).reshape(-1, 1),\n",
        "                         np.sin(x**2 / 40).reshape(-1, 1),\n",
        "                         x.reshape(-1, 1),\n",
        "                         np.sin(x**2 / 20).reshape(-1, 1),\n",
        "                         np.sin(x**3).reshape(-1, 1)), axis=1)\n",
        "\n",
        "# Fit regularized models with different L1 weights\n",
        "m_linear_basis = sm.OLS(y, design)\n",
        "results_basis_0 = m_linear_basis.fit_regularized(alpha=0.10, L1_wt=0.0)\n",
        "results_basis_1 = m_linear_basis.fit_regularized(alpha=0.10, L1_wt=0.3)\n",
        "results_basis_2 = m_linear_basis.fit_regularized(alpha=0.10, L1_wt=0.6)\n",
        "results_basis_3 = m_linear_basis.fit_regularized(alpha=0.10, L1_wt=1.0)\n",
        "\n",
        "# Prediction data\n",
        "x_pred = np.linspace(-5, 20, 200).reshape(-1, 1)\n",
        "design_pred = np.concatenate((np.sin(x_pred),\n",
        "                              np.sin(x_pred**2 / 40),\n",
        "                              x_pred,\n",
        "                              np.sin(x_pred**2 / 20),\n",
        "                              np.sin(x_pred**3)), axis=1)\n",
        "\n",
        "# Predictions for each model\n",
        "y_pred_0 = results_basis_0.predict(design_pred)\n",
        "y_pred_1 = results_basis_1.predict(design_pred)\n",
        "y_pred_2 = results_basis_2.predict(design_pred)\n",
        "y_pred_3 = results_basis_3.predict(design_pred)\n",
        "\n",
        "# Plot\n",
        "fig, ax = plt.subplots(figsize=(10, 5))\n",
        "ax.scatter(x, y, zorder=2, label=\"Data\")\n",
        "ax.plot(x_pred, y_pred_0, color='red', linestyle='--', zorder=1, label=\"L1_wt=0.0\")\n",
        "ax.plot(x_pred, y_pred_1, color='orange', linestyle='--', zorder=1, label=\"L1_wt=0.3\")\n",
        "ax.plot(x_pred, y_pred_2, color='magenta', linestyle='--', zorder=1, label=\"L1_wt=0.6\")\n",
        "ax.plot(x_pred, y_pred_3, color='cyan', linestyle='--', zorder=1, label=\"L1_wt=1.0\")\n",
        "\n",
        "ax.legend()\n",
        "fig.text(.05, -.05, \"Figure 4. The above plot shows the results of applying different levels of regularisation, where the red solution is L2\\nand the cyan is L1 and the orange and magenta are different combinations of the two.\")\n",
        "plt.tight_layout()\n",
        "plt.show()"
      ],
      "metadata": {
        "id": "zcnUcUivez_-"
      },
      "execution_count": null,
      "outputs": []
    },
    {
      "cell_type": "markdown",
      "source": [
        "# Localised Basis Functions"
      ],
      "metadata": {
        "id": "H6q8kqq9nbFR"
      }
    },
    {
      "cell_type": "markdown",
      "source": [
        "Another way to think about designing a set of basis functions is to make them connected to the data, we could think about placing a non-linear transformation of each point\n",
        "\n",
        "$$\n",
        "y_i = \\sum_{j=1}^{N} \\beta_j \\, \\phi(x_j , x_i)\n",
        "$$\n",
        "\n",
        "$$\n",
        "\\phi(x_j , x_i) = e^{- (x_i - x_j)^T (x_i - x_j)}\n",
        "$$"
      ],
      "metadata": {
        "id": "r3ox_A_joSYE"
      }
    },
    {
      "cell_type": "code",
      "source": [
        "np.random.seed(42)\n",
        "\n",
        "# Generate data\n",
        "x = np.linspace(0, 15, 50)\n",
        "y = 0.2 * np.sin(x) + 0.5 * np.sin(x**2 / 40) + 0.05 * x\n",
        "y += 0.05 * np.random.randn(x.shape[0])\n",
        "\n",
        "# Define the RBF kernel function for localized basis functions\n",
        "def rbf_kernel(x1, x2, length_scale=1.0):\n",
        "    return np.exp(-((x1 - x2.T) ** 2) / (2 * length_scale ** 2))\n",
        "\n",
        "# Create the design matrix using RBF kernel\n",
        "phi = rbf_kernel(x[:, np.newaxis], x[:, np.newaxis])\n",
        "\n",
        "# Fit regularized models with different L1 weights\n",
        "m_rbf_basis = sm.OLS(y, phi)\n",
        "results_rbf_0 = m_rbf_basis.fit_regularized(alpha=0.10, L1_wt=0.0)\n",
        "results_rbf_1 = m_rbf_basis.fit_regularized(alpha=0.10, L1_wt=0.3)\n",
        "results_rbf_2 = m_rbf_basis.fit_regularized(alpha=0.10, L1_wt=0.6)\n",
        "results_rbf_3 = m_rbf_basis.fit_regularized(alpha=0.10, L1_wt=1.0)\n",
        "\n",
        "# Prediction data\n",
        "x_pred = np.linspace(-5, 20, 200).reshape(-1, 1)\n",
        "phi_pred = rbf_kernel(x_pred, x)\n",
        "\n",
        "# Predictions for each model\n",
        "y_pred_rbf_0 = results_rbf_0.predict(phi_pred)\n",
        "y_pred_rbf_1 = results_rbf_1.predict(phi_pred)\n",
        "y_pred_rbf_2 = results_rbf_2.predict(phi_pred)\n",
        "y_pred_rbf_3 = results_rbf_3.predict(phi_pred)\n",
        "\n",
        "# Extract parameter values for each model\n",
        "params_0 = results_rbf_0.params\n",
        "params_1 = results_rbf_1.params\n",
        "params_2 = results_rbf_2.params\n",
        "params_3 = results_rbf_3.params\n",
        "\n",
        "# Plot model fit and parameter values\n",
        "fig, (ax1, ax2) = plt.subplots(1, 2, figsize=(12, 5))\n",
        "\n",
        "# Model fit with different regularization levels\n",
        "ax1.scatter(x, y)\n",
        "ax1.plot(x_pred, y_pred_rbf_0, '--', color='red', label=\"L1_wt=0.0\")\n",
        "ax1.plot(x_pred, y_pred_rbf_1, '--', color='orange', label=\"L1_wt=0.3\")\n",
        "ax1.plot(x_pred, y_pred_rbf_2, '--', color='magenta', label=\"L1_wt=0.6\")\n",
        "ax1.plot(x_pred, y_pred_rbf_3, '--', color='cyan', label=\"L1_wt=1.0\")\n",
        "ax1.legend()\n",
        "\n",
        "# Parameter values for each regularization strategy\n",
        "ax2.plot(range(len(params_0)), params_0, '--', color='red', label=\"L1_wt=0.0\")\n",
        "ax2.plot(range(len(params_1)), params_1, '--', color='orange', label=\"L1_wt=0.3\")\n",
        "ax2.plot(range(len(params_2)), params_2, '--', color='magenta', label=\"L1_wt=0.6\")\n",
        "ax2.plot(range(len(params_3)), params_3, '--', color='cyan', label=\"L1_wt=1.0\")\n",
        "ax2.legend()\n",
        "\n",
        "fig.text(.05, -.05, \"Figure 5. The left pane of the figure above shows the fit of the model using a basis function located at each data-point. The right pane shows the actual parameter\\nvalues associated with the different regularisation strategies as above.\")\n",
        "\n",
        "plt.tight_layout()\n",
        "plt.show()"
      ],
      "metadata": {
        "id": "jYtearNincbU"
      },
      "execution_count": null,
      "outputs": []
    },
    {
      "cell_type": "markdown",
      "source": [
        "As we can see from the figure above, the interpretation of the solution for the localised basis function model changes slightly. What we can now say is something similar to, \"how important is each of the training data points for prediction\". Especially interesting is the very strongly regularised solution shown in cyan. This can be interpreted as \"if we want to predict the data, which is the single most representative point\". The notion of a localised basis function can through this interpretation provide a rich explanation that is often very interpretable.\n",
        "\n",
        "The type of data-centric basis functions that we explained above are very commonly used and if continue your study of machine learning during the year you will see a lot more of these basis functions as they are the foundation of a large range of different models from Support Vector Machines Vapnik, 1999 to Gaussian processes Rasmussen et al., 2006. Importantly as they solve an $N \\times N$ regression problem the crucial ingredient is how do we regularise to solution space so that we can recover a solution.\n"
      ],
      "metadata": {
        "id": "F-kGxG97ov2_"
      }
    },
    {
      "cell_type": "markdown",
      "source": [
        "# Applying Model Framework"
      ],
      "metadata": {
        "id": "_ego9VJGtDXk"
      }
    },
    {
      "cell_type": "markdown",
      "source": [
        "You should now try out the model framework that we described above on a dataset derived from the 2021 UK Census Dataset.\n",
        "\n",
        "Let's start by downloading the data."
      ],
      "metadata": {
        "id": "Lz6W-fkKvAUT"
      }
    },
    {
      "cell_type": "code",
      "source": [
        "import requests\n",
        "import zipfile\n",
        "import io\n",
        "import os\n",
        "import pandas as pd\n",
        "\n",
        "\n",
        "def download_census_data(code, base_dir=''):\n",
        "  url = f'https://www.nomisweb.co.uk/output/census/2021/census2021-{code.lower()}.zip'\n",
        "  extract_dir = os.path.join(base_dir, os.path.splitext(os.path.basename(url))[0])\n",
        "\n",
        "  if os.path.exists(extract_dir) and os.listdir(extract_dir):\n",
        "    print(f\"Files already exist at: {extract_dir}.\")\n",
        "    return\n",
        "\n",
        "  os.makedirs(extract_dir, exist_ok=True)\n",
        "  response = requests.get(url)\n",
        "  response.raise_for_status()\n",
        "\n",
        "  with zipfile.ZipFile(io.BytesIO(response.content)) as zip_ref:\n",
        "    zip_ref.extractall(extract_dir)\n",
        "\n",
        "  print(f\"Files extracted to: {extract_dir}\")\n",
        "\n",
        "def load_census_data(code, level='msoa'):\n",
        "  return pd.read_csv(f'census2021-{code.lower()}/census2021-{code.lower()}-{level}.csv')"
      ],
      "metadata": {
        "id": "OP4BG1gr1DNZ"
      },
      "execution_count": null,
      "outputs": []
    },
    {
      "cell_type": "code",
      "source": [
        "download_census_data('TS007') # Age by single year of age\n",
        "\n",
        "age_df = load_census_data('TS007', level='ltla')\n",
        "# Preparing the columns we want\n",
        "age_df = age_df.drop(age_df.columns[[0,2,3,4,10,16,23,28,34,45,61,77,88,99,115]], axis=1).set_index('geography')\n",
        "age_df.columns = range(100)"
      ],
      "metadata": {
        "id": "Hv4Di56V4Xux"
      },
      "execution_count": null,
      "outputs": []
    },
    {
      "cell_type": "markdown",
      "source": [
        "Below we will plot the overall age structure of the UK population in 2021. This profile is not very straightforward, and has historical reasons. Have a look online to understand the data better - you should see a similar chart [here](https://en.wikipedia.org/wiki/Demographics_of_England)."
      ],
      "metadata": {
        "id": "p5ya-XSrJFuk"
      }
    },
    {
      "cell_type": "code",
      "source": [
        "plt.scatter(range(100), age_df.sum(axis=0))\n",
        "plt.show()"
      ],
      "metadata": {
        "id": "l52nn8_z6Whl"
      },
      "execution_count": null,
      "outputs": []
    },
    {
      "cell_type": "markdown",
      "source": [
        "The data looks very different when we look at individual cities. For example, Cambridge has a very different age profile than most of the UK."
      ],
      "metadata": {
        "id": "mKX2gjyRJs2G"
      }
    },
    {
      "cell_type": "code",
      "source": [
        "x_values = range(100)\n",
        "\n",
        "plt.scatter(x_values, age_df.loc['Cambridge'], label='Cambridge')\n",
        "\n",
        "plt.legend()\n",
        "plt.show()"
      ],
      "metadata": {
        "id": "Qtax8Z6_J0tA"
      },
      "execution_count": null,
      "outputs": []
    },
    {
      "cell_type": "markdown",
      "source": [
        "Now try to use the framework that we have derived to explain the two data-sets above. There is no right or wrong answer here, what we are looking for is a motivation of why you have made the choices that you have made\n",
        "and how this effects the conclusions that you can draw."
      ],
      "metadata": {
        "id": "BzzUbzqvyvFS"
      }
    },
    {
      "cell_type": "markdown",
      "source": [
        "### Exercise 1\n",
        "\n",
        "Would it make sense to split up the data-set in different regions and fit separate models If so, what is the criteria that you split the data using?"
      ],
      "metadata": {
        "id": "ltSKpPURuEJc"
      }
    },
    {
      "cell_type": "markdown",
      "source": [
        "### Exercise 1\n",
        "\n",
        "Write your answer to exercise 1 here"
      ],
      "metadata": {
        "id": "bFWjvZLpuQGh"
      }
    },
    {
      "cell_type": "code",
      "source": [
        "# Use this box for any code you need"
      ],
      "metadata": {
        "id": "Wsbz6kY3yy5z"
      },
      "execution_count": null,
      "outputs": []
    },
    {
      "cell_type": "markdown",
      "source": [
        "### Exercise 2\n",
        "\n",
        "What would be a sensible design matrix?"
      ],
      "metadata": {
        "id": "vjxV8w4guZzv"
      }
    },
    {
      "cell_type": "markdown",
      "source": [
        "### Exercise 2\n",
        "\n",
        "Write your answer to exercise 2 here"
      ],
      "metadata": {
        "id": "Oli9K4ODuZzw"
      }
    },
    {
      "cell_type": "code",
      "source": [
        "# Use this box for any code you need"
      ],
      "metadata": {
        "id": "PTrupzX3uZzx"
      },
      "execution_count": null,
      "outputs": []
    },
    {
      "cell_type": "markdown",
      "source": [
        "### Exercise 3\n",
        "\n",
        "What GLM models would make sense to fit?"
      ],
      "metadata": {
        "id": "zfIRGYsMuhBb"
      }
    },
    {
      "cell_type": "markdown",
      "source": [
        "### Exercise 3\n",
        "\n",
        "Write your answer to exercise 3 here"
      ],
      "metadata": {
        "id": "gr7Hf5qcuhBd"
      }
    },
    {
      "cell_type": "code",
      "source": [
        "# Use this box for any code you need"
      ],
      "metadata": {
        "id": "mBltGtt1uhBe"
      },
      "execution_count": null,
      "outputs": []
    },
    {
      "cell_type": "markdown",
      "source": [
        "During the check-session we will ask you a few questions on how you have reasoned when fitting the data.\n",
        "Again, what we are looking for is motivation not \"the best fit\"."
      ],
      "metadata": {
        "id": "vS-VCQ3eyzbA"
      }
    },
    {
      "cell_type": "markdown",
      "source": [
        "# Practical Modelling"
      ],
      "metadata": {
        "id": "emJzVK1pDG0i"
      }
    },
    {
      "cell_type": "markdown",
      "source": [
        "## Linear modelling"
      ],
      "metadata": {
        "id": "e7wWaXZRNFeB"
      }
    },
    {
      "cell_type": "markdown",
      "source": [
        "You probably inferred in the previous exercise, that age-profiles of individual cities are heavilly impacted by students. Let's use data from the 2021 Census to try and predict age profile information of all cities."
      ],
      "metadata": {
        "id": "FjlIbHweNBCc"
      }
    },
    {
      "cell_type": "markdown",
      "source": [
        "What we actually will be predicting, is the share of population in a given city that is of a certain age, given NS-SEC information. Let's normalise the `age_df` and select the share of 21-year-olds in each city. This is the value we are trying to predict."
      ],
      "metadata": {
        "id": "urULg6yYOu-j"
      }
    },
    {
      "cell_type": "code",
      "source": [
        "norm_age_df = age_df.div(age_df.sum(axis=1), axis=0)\n",
        "norm_age_df[21]"
      ],
      "metadata": {
        "id": "Z1mBvBe_Bdmb"
      },
      "execution_count": null,
      "outputs": []
    },
    {
      "cell_type": "markdown",
      "source": [
        "### Exercise 4\n",
        "\n",
        "We don't have any data to make a model yet - let's change that. Select features to use, starting with the relative student population of each city (`L15` in `TS062`).\n",
        "\n",
        "Make a LinearRegression model to find the relationship between the student population in a city, and the percentage of 21 year olds there. Use the model to make predictions and examine the predictive power by plotting the correlation of `y` and `y_pred`."
      ],
      "metadata": {
        "id": "7ZrhL-UPvQZ2"
      }
    },
    {
      "cell_type": "markdown",
      "source": [
        "### Exercise 4\n",
        "\n",
        "Write your answer to exercise 4 here"
      ],
      "metadata": {
        "id": "aC2eNcZDvQZ3"
      }
    },
    {
      "cell_type": "code",
      "source": [
        "# Use this box for any code you need"
      ],
      "metadata": {
        "id": "J4wMLwC-vQZ4"
      },
      "execution_count": null,
      "outputs": []
    },
    {
      "cell_type": "markdown",
      "source": [
        "### Exercise 5\n",
        "\n",
        "Now repeat the above analysis using all 9 NS-SEC classification values as features. Interpret the results, including correlation. Does the new model perform better?"
      ],
      "metadata": {
        "id": "mKGl-BFnvgcp"
      }
    },
    {
      "cell_type": "markdown",
      "source": [
        "### Exercise 5\n",
        "\n",
        "Write your answer to exercise 5 here"
      ],
      "metadata": {
        "id": "KZ3TjUzevgcr"
      }
    },
    {
      "cell_type": "code",
      "source": [
        "# Use this box for any code you need"
      ],
      "metadata": {
        "id": "Zbh_3Pe9vgcr"
      },
      "execution_count": null,
      "outputs": []
    },
    {
      "cell_type": "markdown",
      "source": [
        "## Regularisation"
      ],
      "metadata": {
        "id": "ZWBKeJdJhdvi"
      }
    },
    {
      "cell_type": "markdown",
      "source": [
        "The prediction results achieved by your second model should be more accurate, with a correlation of about 97%. However, when using as many parameters as we are (9), we need to be wary of overfitting."
      ],
      "metadata": {
        "id": "JL-GHnSCh6SE"
      }
    },
    {
      "cell_type": "markdown",
      "source": [
        "### Exercise 6\n",
        "\n",
        "Examine if the model is overfitting using *k-fold cross-validation*.\n",
        "\n",
        "- Randomly split the dataset into *k* subsets.\n",
        "- Train a model, leaving one selected subset out for testing. Record the test performance on that subset.\n",
        "- Iterate this for all subsets.\n",
        "\n",
        "Do the results you get differ depending on the value of *k*? Plot this relationship. Does this match your expectations?"
      ],
      "metadata": {
        "id": "RUKByjAovvqX"
      }
    },
    {
      "cell_type": "markdown",
      "source": [
        "### Exercise 6\n",
        "\n",
        "Write your answer to exercise 6 here"
      ],
      "metadata": {
        "id": "jl1jnTxYvvqZ"
      }
    },
    {
      "cell_type": "code",
      "source": [
        "# Use this box for any code you need"
      ],
      "metadata": {
        "id": "43lbYMkZvvqa"
      },
      "execution_count": null,
      "outputs": []
    },
    {
      "cell_type": "markdown",
      "source": [
        "### Exercise 7\n",
        "\n",
        "If you found evidence of overfitting, address this by employing both L1 and L2 regularisation. Compare the results against your baseline model. How did you choose alpha values? What do the results say about potential feature selection?"
      ],
      "metadata": {
        "id": "6GqFLQL0v9k-"
      }
    },
    {
      "cell_type": "markdown",
      "source": [
        "### Exercise 7\n",
        "\n",
        "Write your answer to exercise 7 here"
      ],
      "metadata": {
        "id": "IHSsj4o4v9k_"
      }
    },
    {
      "cell_type": "code",
      "source": [
        "# Use this box for any code you need"
      ],
      "metadata": {
        "id": "ImJv9jlOv9lA"
      },
      "execution_count": null,
      "outputs": []
    },
    {
      "cell_type": "markdown",
      "source": [
        "## Prediction"
      ],
      "metadata": {
        "id": "BTarwfRoktIi"
      }
    },
    {
      "cell_type": "markdown",
      "source": [
        "### Exercise 8\n",
        "\n",
        "Among the models created above, choose the one you believe performs *best*, and apply it to the entire dataset.\n",
        "\n",
        "Fit a separate linear model for each of the age groups (0-99). Note down the model coefficients and plot them."
      ],
      "metadata": {
        "id": "WMknsJRvwJNS"
      }
    },
    {
      "cell_type": "markdown",
      "source": [
        "### Exercise 8\n",
        "\n",
        "Write your answer to exercise 8 here"
      ],
      "metadata": {
        "id": "SPUwCY50wJNU"
      }
    },
    {
      "cell_type": "code",
      "source": [
        "# Use this box for any code you need"
      ],
      "metadata": {
        "id": "25pelqmswJNU"
      },
      "execution_count": null,
      "outputs": []
    },
    {
      "cell_type": "markdown",
      "source": [
        "### Exercise 9\n",
        "\n",
        "Write a function that given a cities' NS-SEC breakdown, predicts it's age profile, and plot's it against the ground truth.\n",
        "\n",
        "Play around with the method to find cities where your model works very well, but also ones where it works poorly."
      ],
      "metadata": {
        "id": "oD_BSycKwVTY"
      }
    },
    {
      "cell_type": "markdown",
      "source": [
        "### Exercise 9\n",
        "\n",
        "Write your answer to exercise 9 here"
      ],
      "metadata": {
        "id": "EBGg-jn4wVTZ"
      }
    },
    {
      "cell_type": "code",
      "source": [
        "# Use this box for any code you need"
      ],
      "metadata": {
        "id": "CMR6yFlRwVTa"
      },
      "execution_count": null,
      "outputs": []
    },
    {
      "cell_type": "markdown",
      "source": [
        "# Conclusions"
      ],
      "metadata": {
        "id": "JTKDo8iGzWVr"
      }
    },
    {
      "cell_type": "markdown",
      "source": [
        "This has been quite a short introduction to a set of very useful models. We have cut quite a few corners theoretically but importantly this is something that we have to do when working as data-scientist. We need to be able to apply models while there is still some uncertainty in how they work and be able to translate this uncertainty to how we interpret the results that we get. You are by no means expected to be experts on GLMs at all but you should be able to use them.\n",
        "\n",
        "The next part of your challenge is now to include the models that we have built up and use them in the coursework. Try to first visualise the data, make a clear narrative of why you are selecting a specific model and try to use the tools that we derived her in order to provide context to the predictions that you make. The statsmodel package gives you a rich set of tools that you should be able to include directly into your project. Importantly, remember that the most important thing is to be able to say why a model does what it does not necessarily choosing the right model.\n",
        "\n",
        "During the lecture Neil mentioned the idea that what separates statisticians from machine learners is that the former cares about β while the machine learners cares about $\\hat{y}$ (the predictions). If you look at the statmodels package this concept becomes very clear. Using the GLM code as we did in the first exercise doesn’t actually provide us with the uncertainty in the predictions only in the parameters. It was because of this we changed from the GLM model class to OLS when using the basis functions."
      ],
      "metadata": {
        "id": "6XhMUVTMzbCt"
      }
    },
    {
      "cell_type": "markdown",
      "source": [
        "## References"
      ],
      "metadata": {
        "id": "mtHhFGnd0a7g"
      }
    },
    {
      "cell_type": "markdown",
      "source": [
        "- McCullagh, P., & Nelder, J. A. (1989). *Generalized Linear Models*. London, UK: Chapman Hall / CRC.\n",
        "\n",
        "- Rasmussen, Carl Edward, & Williams, Christopher K. I. (2006). *Gaussian Processes for Machine Learning* (Adaptive Computation and Machine Learning). The MIT Press.\n",
        "\n",
        "- Silverman, B. W. (1985). \"Some Aspects of the Spline Smoothing Approach To Non-Parametric Regression Curve Fitting\". *Journal of the Royal Statistical Society: Series B (Methodological)*, 47(1), pp. 1–21.\n",
        "\n",
        "- Vapnik, Vladimir N. (1999). *The Nature of Statistical Learning Theory*.\n"
      ],
      "metadata": {
        "id": "pHQAK-qOzb5L"
      }
    }
  ]
}