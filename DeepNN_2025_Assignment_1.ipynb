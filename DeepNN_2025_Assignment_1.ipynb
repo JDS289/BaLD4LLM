{
  "cells": [
    {
      "cell_type": "markdown",
      "metadata": {
        "id": "view-in-github",
        "colab_type": "text"
      },
      "source": [
        "<a href=\"https://colab.research.google.com/github/JDS289/BaLD4LLM/blob/main/DeepNN_2025_Assignment_1.ipynb\" target=\"_parent\"><img src=\"https://colab.research.google.com/assets/colab-badge.svg\" alt=\"Open In Colab\"/></a>"
      ]
    },
    {
      "cell_type": "markdown",
      "metadata": {
        "id": "BP-Q4keXyPAw"
      },
      "source": [
        "# Deep Neural Networks - First Assignment 2025\n",
        "\n",
        "## Ferenc Huszár and Nic Lane\n",
        "\n",
        "### Due date: 21 February, 2025\n",
        "\n",
        "Welcome to the first assignment for the Deep Learning and Neural Networks (DeepNN) module. This first half is marked out of 30, and makes up 30% of the total marks you can earn in this module. The second assignment is going to be a bit more substantial and more open-ended.\n",
        "\n",
        "\n",
        "There are 3 parts to this assignment, A, B and C, each worth 10% of the total module marks. The first two exercises contain specific subtasks, while the final one is more open-ended, requires you to do a bit of independent reading and experimentation.\n",
        "\n",
        "How to submit:\n",
        "* Please run this notebook in [google colab](https://colab.research.google.com/), adding your own code and text cells as requested\n",
        "* Leave relevant output (plots, etc) in the colab - assume we won't be running your code, but we want to check how you solved problems. Please name and submit the `ipynb` file.\n",
        "* For each of the three sections (A, B and C), please submit a 1 page pdf with:\n",
        "   * Up to 350 words of text summarising and interpreting of your findings.\n",
        "   * Up to 2 figures (or tables)\n",
        "   * For mathematical derivations, for which an extra appendix page is allowed. It's fine to include a screenshot of compiled latex or photo of hand written notes - if that saves you time.\n",
        "* For Sections A and B we included a writeup checklist to help you remember to include important components.\n",
        "* You do not have to max out the word count of figure numbers, in fact we prefer short, to the point, descriptions.\n",
        "* A correct solution of what we asked for with a solid writeup will earn full marks. Going beyond the brief - great, do it if you're curious - won't earn extra marks.\n",
        "\n",
        "Part of the goal of this assignment is for you to familiarise yourself with `pytorch`, if you don't know it already. To this end we tried to include quite a bit of explanation, skeleton code, and some hints."
      ]
    },
    {
      "cell_type": "markdown",
      "metadata": {
        "id": "a1vgSdt8eDvK"
      },
      "source": [
        "# A: *Reparametrization*: the effect of parameter scaling\n",
        "\n",
        "In this part of the exercise you will explore the behaviour of simple models (linear models and one-hidden layer ReLU networks) under gradient descent.\n",
        "\n",
        "If you follow along, the take home messages will be:\n",
        "1. In neural networks, the same function can be represented by several different settings of the parameters. This is called reparametrization-invariance.\n",
        "2. Differently parametrized neural networks behave differently under gradient descent, and this difference may lead to qualitatively different solutions.\n",
        "3. Initialization of parameters is crucially important. Starting from different initialization can lead to qualitatively different solutions, too."
      ]
    },
    {
      "cell_type": "markdown",
      "metadata": {
        "id": "Xr4LdCiQfF9A"
      },
      "source": [
        "## Preliminaries\n",
        "\n",
        "We will start by creating a linear model, with 1D input and 1D output, using the `pytorch` layer type `Linear`. We will only need a single layer like this, with input and output dimension both set to 1. (For reproducibility, I set the `torch` random seed in each cell.)"
      ]
    },
    {
      "cell_type": "code",
      "execution_count": 17,
      "metadata": {
        "colab": {
          "base_uri": "https://localhost:8080/",
          "height": 449
        },
        "id": "65GxbeDZfCzY",
        "outputId": "a3863f9a-385d-4029-e289-25cb6c2f8441"
      },
      "outputs": [
        {
          "output_type": "display_data",
          "data": {
            "text/plain": [
              "<Figure size 640x480 with 1 Axes>"
            ],
            "image/png": "[encoded data removed]"
          },
          "metadata": {}
        }
      ],
      "source": [
        "import torch\n",
        "from torch.nn import Linear, Parameter\n",
        "\n",
        "torch.manual_seed(1337)\n",
        "lin = Linear(1, 1)\n",
        "\n",
        "# choose a grid of input points to evaluate the model at\n",
        "x_grid = torch.linspace(-2, 2, 200)[:, None]\n",
        "predictions = lin(x_grid)\n",
        "\n",
        "from matplotlib import pylab as plt\n",
        "import seaborn as sns\n",
        "sns.set_style('whitegrid')\n",
        "\n",
        "plt.plot(x_grid, predictions.detach(), 'k');\n",
        "plt.xlabel('$x$');\n",
        "plt.ylabel('model output');"
      ]
    },
    {
      "cell_type": "markdown",
      "metadata": {
        "id": "JHlJDn0LhAH4"
      },
      "source": [
        "Remarks:\n",
        "* Notice how I used `[:, None]` to reshape the output of linspace. This adds an extra dimension to the tensor, which was important since the linear layer expects `num_datapoints×num_input_dimensions` shaped input. Indexing in pytorch works very similarly to numpy, if you are not familiar with it, I encourage you to check out online tutorials on numpy and torch indexing.\n",
        "* We evaluated the model by simply calling `lin(x_grid)`. The output has a computational graph attached, for subsequent backpropagation. In order to plot the result, we have to detach the graph, by calling the `detach` method.\n"
      ]
    },
    {
      "cell_type": "markdown",
      "metadata": {
        "id": "YdH8K1ePo4py"
      },
      "source": [
        "## Question A.1: Reparametrization\n",
        "\n",
        "We will now create an equivalent model to our favourite `lin`. One that uses a different parametrization, but is still a linear model. Our original linear model is described as follows:\n",
        "\n",
        "$$\n",
        "f(x ; w_1, b_1) = w_1x + b_1\n",
        "$$\n",
        "\n",
        "Now, we will consider a slightly different, but equivalent model:\n",
        "\n",
        "$$\n",
        "g(x; w_2, b_2) = c \\cdot w_2 x + b_2,\n",
        "$$\n",
        "\n",
        "where $c\\neq0$ is a constant (not a trainable parameter). One can see that by setting $w_2 = \\frac{w_1}{c}$ and $b_2 = b_1$, the two models implement the same linear function.\n",
        "\n",
        "Your task is to create a function that takes a linear layer that implements $f$, and outputs another pytorch model that implements $g$, setting $g$'s parameters $w_2, b_2$ so that at creation, the two models give the same output.\n",
        "\n",
        "Tips:\n",
        "* if/when copying layers, use `deepcopy` to ensure that you don't accidentally tie the parameters of the new layer and the original together.\n",
        "* you can use a `torch.nn.Sequential` to compose layers. This task is easiest to solve by creating new network with two `Linear` layers.\n",
        "* make sure the new model has only two trainable parameters (i.e. $c$ does not end up a trainable parameter). You can make a parameter fixed by setting `param.requires_grad=False`.\n",
        "* you can use `lin.weight` and `lin.bias`\n",
        "* when manipulating model weights directly, I suggest using `torch.no_grad`"
      ]
    },
    {
      "cell_type": "markdown",
      "metadata": {
        "id": "RYBjnQak_24-"
      },
      "source": [
        "### Answer A.1\n",
        "\n",
        "Please complete the code blocks below."
      ]
    },
    {
      "cell_type": "code",
      "execution_count": 57,
      "metadata": {
        "id": "FtpRLXy3Y5Fm"
      },
      "outputs": [],
      "source": [
        "from copy import deepcopy\n",
        "\n",
        "@torch.no_grad()\n",
        "def reparametrise_linear(linear_layer, c=2.0):\n",
        "    \"\"\"Takes a Linear pytorch layer, and returns an equivalent network.\"\"\"\n",
        "\n",
        "    layer_copy = deepcopy(linear_layer)\n",
        "    layer_copy.weight /= c\n",
        "    layer_copy.bias /= c  # this is required if layer_mult_c is applied after\n",
        "\n",
        "    layer_mult_c = Linear(layer_copy.out_features, layer_copy.out_features, bias=False)\n",
        "    layer_mult_c.weight = Parameter(c*torch.eye(layer_copy.out_features), requires_grad=False)\n",
        "    # I was unclear on whether we're only dealing with 1x1 linear models; went for generality to be on the safe side\n",
        "\n",
        "    return torch.nn.Sequential(layer_copy, layer_mult_c)"
      ]
    },
    {
      "cell_type": "code",
      "execution_count": 58,
      "metadata": {
        "id": "VgJtGSxuZjWz"
      },
      "outputs": [],
      "source": [
        "#here is a simple test that should successfully run\n",
        "torch.manual_seed(1337)\n",
        "model = Linear(1, 1)\n",
        "model2 = reparametrise_linear(model, c=2.0)\n",
        "assert torch.allclose(model(x_grid), model2(x_grid))\n",
        "\n",
        "assert len([p for p in model.parameters() if p.requires_grad])==2\n",
        "assert len([p for p in model2.parameters() if p.requires_grad])==2"
      ]
    },
    {
      "cell_type": "markdown",
      "metadata": {
        "id": "cFNw05QOidgu"
      },
      "source": [
        "## Question A.2: Plot the effect of a single gradient step\n",
        "\n",
        "Your second task is to illustrate how a single gradient descent step changes our model's output, after we observe a single datapoint at $x=1, y=1$.\n",
        "\n",
        "#### A.2.1.\n",
        "Please fill out each of the incomplete lines commented as '## step n' below.\n",
        "* For optimizer, please use SGD, no momentum, learning rate set to $0.05$\n",
        "* for loss, please calculate (mean) squared error between the model's output at $x$ and the desired output $y$.\n",
        "\n",
        "Use the `reparametrize_linear` the model from the previous task to create equivalent linear models, repeat the single gradient step experiment on each.\n",
        "\n",
        "#### A.2.2.\n",
        "Plot the results, and explain any differences between the reparametrised and original models' behaviour in the text box below.\n",
        "\n",
        "####A.2.3.\n",
        "Can you derive the effect of the gradient step analytically? You can use LaTeX to type it up if you'd like."
      ]
    },
    {
      "cell_type": "markdown",
      "metadata": {
        "id": "mnz_7oloAA_t"
      },
      "source": [
        "### Answer A.2\n",
        "\n",
        "Please complete the code cells and add interpretation in the text cell below."
      ]
    },
    {
      "cell_type": "code",
      "execution_count": null,
      "metadata": {
        "id": "loOvP8K2iwpJ"
      },
      "outputs": [],
      "source": [
        "#note: if you import things for this cell, please do that here\n",
        "from torch.optim import SGD\n",
        "from torch.nn.functional import mse_loss\n",
        "\n",
        "#here is the single training datapoint\n",
        "x = torch.tensor([[1.0]])\n",
        "y = torch.tensor([[1.0]])\n",
        "\n",
        "def single_gradient_step(model, x, y, x_test=x_grid):\n",
        "\n",
        "    ##step 1: compute the prediction of the model on x_test before the step\n",
        "    pred_before = #...\n",
        "\n",
        "    ## step 2: create an SGD optimizer\n",
        "    ## step 3: calculate the squared loss\n",
        "    ## step 4: backpropagate\n",
        "    ## step 5: take a step with the optimizer\n",
        "\n",
        "    ## step 6: calculate the predictions after the step\n",
        "    pred_after = #...\n",
        "\n",
        "    return pred_before, pred_after"
      ]
    },
    {
      "cell_type": "code",
      "execution_count": null,
      "metadata": {
        "id": "h_vdvc8tmX6e"
      },
      "outputs": [],
      "source": [
        "torch.manual_seed(1337)\n",
        "lin = Linear(1, 1)\n",
        "pred_before, pred_after = single_gradient_step(lin, x, y)\n",
        "plt.plot(x_grid, pred_before, 'k')\n",
        "plt.plot(x_grid, pred_after, 'k:')\n",
        "plt.plot(x, y, 'bx')\n",
        "plt.legend(['initial', 'after step','datapoint'], loc=3)\n",
        "plt.xlabel('$x$');plt.ylabel('model output');"
      ]
    },
    {
      "cell_type": "markdown",
      "metadata": {
        "id": "7ym0hktNiqC6"
      },
      "source": [
        "#### Interpretation\n",
        "\n",
        "please add your interpretation of findings (2-3 sentences)"
      ]
    },
    {
      "cell_type": "markdown",
      "metadata": {
        "id": "nuiAjQmRu6nV"
      },
      "source": [
        "## Question A.3: Where does training converge?\n",
        "\n",
        "Using the `reparametrise_linear` function below, create new versions of the `lin` model, with $c=2$ and $c=0.5$, respectively. Now, train each of these models on the $x=1, y=1$ datapoint using 1000 iterations of gradient descent with a learning rate of $0.01$.\n",
        "\n",
        "Plot the solutions found, and explain what you see."
      ]
    },
    {
      "cell_type": "markdown",
      "metadata": {
        "id": "TLWuahzsAMvE"
      },
      "source": [
        "### Answer A.3\n",
        "\n",
        "Please complete the code block below and add interpretation to the text cell."
      ]
    },
    {
      "cell_type": "code",
      "execution_count": null,
      "metadata": {
        "id": "pYP76PDzEYVm"
      },
      "outputs": [],
      "source": [
        "torch.manual_seed(1337)\n",
        "lin = Linear(1, 1)\n",
        "\n",
        "# create reparametrized models starting from lin\n",
        "# train each for 1000 steps of SGD with lr=0.01\n",
        "# plot the results"
      ]
    },
    {
      "cell_type": "markdown",
      "metadata": {
        "id": "vWYGhdhBD0iL"
      },
      "source": [
        "#### Interpretation\n",
        "\n",
        "please add your interpretation of findings (2-3 sentences)"
      ]
    },
    {
      "cell_type": "markdown",
      "metadata": {
        "id": "-NY8lVwKFJvE"
      },
      "source": [
        "## Question A.4: Reparametrization invariance in ReLU Networks\n",
        "\n",
        "Implement a function that takes a one hidden layer ReLU network (i.e. two Linear layers with a ReLU sandwiched between them) and finds an equivalent network with different parameters that implements the same function. You can do this along the lines of [(Dinh et al, 2017)](https://arxiv.org/pdf/1703.04933.pdf).\n",
        "\n",
        "The key observation is that the ReLU activation function satisfies $\\phi(\\alpha t) = \\alpha \\phi(t)$ for all $\\alpha \\neq 0$, a property called homogeneity. Thus, if we divide the weights and biases **before** the ReLU by $\\alpha$, and multiply the weights after the ReLU by the same $\\alpha$, overall, the network's behaviour has not changed.\n",
        "\n",
        "Implement the `reparametrise_relu` function below. Don't forget to use `deepcopy` and `no_grad`. in multi-layer models you can use `model[i]` indexing to access the `i`-th layer. I include a basic test cell below.\n",
        "\n"
      ]
    },
    {
      "cell_type": "markdown",
      "metadata": {
        "id": "GUi9QRhGAewP"
      },
      "source": [
        "### Anwer A.4\n",
        "\n",
        "Please complete the code block below."
      ]
    },
    {
      "cell_type": "code",
      "execution_count": null,
      "metadata": {
        "id": "TlQQ2JVcLdDY"
      },
      "outputs": [],
      "source": [
        "from copy import deepcopy\n",
        "def reparametrise_relu(model, alpha=2.0):\n",
        "    \"\"\"Reparametrises a one-hidden-layer ReLU network using the scaling method of\n",
        "    (Dinh et al, 2017)\"\"\"\n",
        "    ## step 1: copy model\n",
        "    ## step 2: scale weights and biases in the two linear layers"
      ]
    },
    {
      "cell_type": "code",
      "execution_count": null,
      "metadata": {
        "id": "2wge6yDSMXkd"
      },
      "outputs": [],
      "source": [
        "from torch.nn import ReLU\n",
        "#here is a simple test that should successfully run\n",
        "torch.manual_seed(1337)\n",
        "model = Sequential(Linear(1, 128), ReLU(), Linear(128, 1))\n",
        "model2 = reparametrise_relu(model, alpha=2.0)\n",
        "#the model should be functionally the same\n",
        "assert torch.allclose(model(x_grid), model2(x_grid))\n",
        "#both models should have 4 trainable parameters\n",
        "assert len([p for p in model.parameters() if p.requires_grad])==4\n",
        "assert len([p for p in model2.parameters() if p.requires_grad])==4"
      ]
    },
    {
      "cell_type": "markdown",
      "metadata": {
        "id": "Qfy79eIrTFfW"
      },
      "source": [
        "## Question A.5: Training from different initialization\n",
        "\n",
        "\n",
        "A.5.1\n",
        "Now create a two-layer ReLU network with 512 hidden units. Use the `reparametrise_relu` function, with $\\alpha=10$, to find a functionally equivalent network. Starting from these two networks as initialization, train the networks until convergence on the new toy data provided. Interpret and explain the results (3-5 sentences).\n",
        "\n",
        "A.5.2\n",
        "Now explore the same using different optimizers. Do you see any difference in the results? (3-5 sentences) Could there exist an optimization algorithm which makes the two models converge to the same solution? (2-3 sentences)"
      ]
    },
    {
      "cell_type": "markdown",
      "metadata": {
        "id": "cLVCqhz5Ao8c"
      },
      "source": [
        "### Answer A.5\n",
        "\n",
        "Please complete the code cell below and add interpretation in the text cell provided."
      ]
    },
    {
      "cell_type": "code",
      "execution_count": null,
      "metadata": {
        "id": "p6tvYAs8EnHK"
      },
      "outputs": [],
      "source": [
        "torch.manual_seed(1337)\n",
        "model = Sequential(Linear(1, 512), ReLU(), Linear(512, 1))\n",
        "\n",
        "x = torch.tensor([[-1.0], [-0.0], [1.0]])\n",
        "y = torch.tensor([[1.0], [-1.0], [1.0]])\n",
        "\n",
        "# create a reparametrized model starting from this model\n",
        "# train both models until convergence (find good learning rate)\n",
        "# plot the solution each model converged to"
      ]
    },
    {
      "cell_type": "markdown",
      "metadata": {
        "id": "zbkr-LQRyMms"
      },
      "source": [
        "#### Interpretation\n",
        "\n",
        "please add your interpretation of findings"
      ]
    },
    {
      "cell_type": "markdown",
      "metadata": {
        "id": "7uNa4YxP5xKT"
      },
      "source": [
        "## Revisiting the take-aways\n",
        "\n",
        "Hopefully, if you followed along this exercise, you gained some fresh insights into gradient-based learning and neural networks. Please take a moment to think about the take-home messages from this exercise, and see if you can back these up with your findings from the work above:\n",
        "\n",
        "1. In neural networks, the same function can be represented by several different settings of the parameters. This is called reparametrization-invariance.\n",
        "2. Differently parametrized neural networks behave differently under gradient descent, and this difference may lead to qualitatively different solutions.\n",
        "3. Initialization of parameters is crucially important. Starting from different initialization (even if it's starting from the same function) can lead to qualitatively different solutions, too."
      ]
    },
    {
      "cell_type": "markdown",
      "source": [
        "## Section A Writeup checklist\n",
        "\n",
        "Please compile your findings into a writeup. Please make sure you include:\n",
        "* 1 figure with the linear models with legends\n",
        "* summary paragraph describing the linear model findings\n",
        "* derivation of gradient descent behaviour in linear model (using an extra page is allowed)\n",
        "* 1 figure with the ReLU results with legends\n",
        "* a qualitative description of the ReLU findings\n",
        "* an explanation/interpretation of why we see what we see\n",
        "* a comment on different optimizers"
      ],
      "metadata": {
        "id": "318w6bvK1ZND"
      }
    },
    {
      "cell_type": "markdown",
      "metadata": {
        "id": "9axs5GFUyIe3"
      },
      "source": [
        "# B: Sawtooth network\n",
        "\n",
        "This part of the assignment looks at the *sawtooth* network Ferenc showed in the second lecture to demonstrate that deep ReLU networks can represent exponentially complex piecewise linear functions. The function is defined by the following recursion:\n",
        "\n",
        "\\begin{align}\n",
        "f_l(x) &= 2\\cdot \\vert f_{l-1}(x)\\vert - 2\\\\\n",
        "f_0(x) &= x\n",
        "\\end{align}\n",
        "\n",
        "This function can be implemented as a deep, narrow neural network with just two ReLU units at each layer. Below, I provide a simple `pytorch` implementation. The network has three different layers in it: the input layer, the middle layers, which are repeated, and the output layer. ReLU nonlinearities are sandwiched between them.\n"
      ]
    },
    {
      "cell_type": "code",
      "execution_count": null,
      "metadata": {
        "id": "_EGixUF_1svC"
      },
      "outputs": [],
      "source": [
        "from torch.nn import Identity, Sequential, Linear, ReLU\n",
        "\n",
        "def sawtooth_input_layer():\n",
        "  '''Input layer of a Sawtooth network. A Linear layer with fixed weights.'''\n",
        "  layer = Linear(1, 2, bias=False)\n",
        "  with torch.no_grad():\n",
        "    layer.weight.data = torch.Tensor([[1], [-1]])\n",
        "  return layer\n",
        "\n",
        "def sawtooth_middle_layer():\n",
        "  '''Middle layer of a Sawtooth network. A Linear layer with fixed weights.'''\n",
        "  layer = Linear(2, 2)\n",
        "  with torch.no_grad():\n",
        "    layer.weight.data = torch.Tensor([[2, 2], [-2, -2]])\n",
        "    layer.bias.data = torch.Tensor([-2, 2])\n",
        "  return layer\n",
        "\n",
        "def sawtooth_output_layer():\n",
        "  '''Output layer of a Sawtooth network. A Linear layer with fixed weights.'''\n",
        "  layer = Linear(2, 1)\n",
        "  with torch.no_grad():\n",
        "    layer.weight.data = torch.Tensor([[2, 2]])\n",
        "    layer.bias.data = torch.Tensor([-2])\n",
        "\n",
        "  return layer\n",
        "\n",
        "def get_sawtooth_network(num_hidden_layers = 5, middle_layer = sawtooth_middle_layer):\n",
        "  '''Returns a nn.Sequential model with ReLU activations and weights fixed to\n",
        "  implement the sawtooth function.\n",
        "\n",
        "  Parameters\n",
        "  ----------\n",
        "  num_hidden_layers : int\n",
        "    Specifies the number of hidden layers. When 0, the Identity is returned.\n",
        "  middle_layer: function\n",
        "    Function to use to construct the layers in the middle. Default is to use\n",
        "    `sawtooth_middle_layer`.\n",
        "  '''\n",
        "  blocks = []\n",
        "  if num_hidden_layers < 0:\n",
        "    raise ValueError('Number of hidden layers must be non-negative')\n",
        "  elif num_hidden_layers == 0:\n",
        "    blocks = [Identity]\n",
        "  else:\n",
        "    for l in range(num_hidden_layers):\n",
        "      if l==0:\n",
        "        blocks.append(sawtooth_input_layer())\n",
        "      else:\n",
        "        blocks.append(middle_layer())\n",
        "      blocks.append(ReLU())\n",
        "    blocks.append(sawtooth_output_layer())\n",
        "  return Sequential(*blocks)"
      ]
    },
    {
      "cell_type": "markdown",
      "metadata": {
        "id": "wPF6RX6p2Ahp"
      },
      "source": [
        "Let's look at the output of this neural network on a grid of input points:"
      ]
    },
    {
      "cell_type": "code",
      "execution_count": null,
      "metadata": {
        "colab": {
          "base_uri": "https://localhost:8080/",
          "height": 430
        },
        "id": "9f19iZpu13ux",
        "outputId": "69686d2e-09c9-4139-c4a5-892cb82e355e"
      },
      "outputs": [
        {
          "data": {
            "image/png": "[encoded data removed]",
            "text/plain": [
              "<Figure size 640x480 with 1 Axes>"
            ]
          },
          "metadata": {},
          "output_type": "display_data"
        }
      ],
      "source": [
        "x = torch.linspace(-2,2,1000)[:, None]\n",
        "\n",
        "model = get_sawtooth_network(6)\n",
        "\n",
        "plt.plot(x, model(x).detach());"
      ]
    },
    {
      "cell_type": "markdown",
      "metadata": {
        "id": "bxNcWR_a2KXx"
      },
      "source": [
        "The sawtooth network was deliberately constructed to show that exponentially complex networks can be represented by even very simple deep network architectures like this. But are these complex outputs typical? How easy is it to break this exponential complexity property of the sawtooth networks? The assignment question below asks you to explore this a bit."
      ]
    },
    {
      "cell_type": "markdown",
      "metadata": {
        "id": "mucks6jd2k_n"
      },
      "source": [
        "## Question B.1 Stripping the Saw's Teeth\n",
        "\n",
        "I implemented `get_sawtooth_network` in such a way that it is possible to pass a custom functions for constructing the *middle* layers of the network. Create two new versions of this middle layer constructor in the code blocks below:\n",
        "1. `noisy_sawtooth_middle_layer` should initialize the weights with a bit of random perturbation around the original fixed weights of the sawtooth network. The magnitude of the perturbation is controlled by an argument `noise_level`\n",
        "2. `random_init_middle_layer` should initialize the weights completely randomly.\n",
        "Create new models using these randomized layers and plot the model's output like above. I have included code blocks for plotting for convenience. Describe what you find. Is the number of linear segments still exponential?\n",
        "\n",
        "Finally try reinitializing the whole model weights using standard initialization scheme. *Tip:* Use the `reset_parameters` function on each `Linear` layer in the model.\n",
        "\n",
        "Please add a summary to the text cell below."
      ]
    },
    {
      "cell_type": "markdown",
      "metadata": {
        "id": "SiMUWjaaA6hR"
      },
      "source": [
        "### Answer B.1\n",
        "\n",
        "Please complete the code cells below and add your interpretation to the text cell provided."
      ]
    },
    {
      "cell_type": "code",
      "execution_count": null,
      "metadata": {
        "id": "3gwVsK0y2jtI"
      },
      "outputs": [],
      "source": [
        "# Modify the function below so it returns a layer with randomly perturbed\n",
        "# weights and biases\n",
        "\n",
        "def noisy_sawtooth_middle_layer(noise_level = 0.1):\n",
        "  '''A noisy middle layer of a Sawtooth network. A 2x2 linear layer whose weights\n",
        "  are randomly perturbed around the fixed weights of the sawtooth network.\n",
        "\n",
        "  Parameters\n",
        "  ----------\n",
        "  noise_level : float\n",
        "    Controls the amount of noise added.\n",
        "  '''\n",
        "  layer = Linear(2, 2)\n",
        "  with torch.no_grad():\n",
        "    layer.weight.data = torch.Tensor([[2, 2], [-2, -2]])\n",
        "    layer.bias.data = torch.Tensor([-2, 2])\n",
        "  return layer"
      ]
    },
    {
      "cell_type": "code",
      "execution_count": null,
      "metadata": {
        "id": "xbka0whc295E"
      },
      "outputs": [],
      "source": [
        "# Modify the function below so it returns a layer with randomly initialized\n",
        "# weights and biases.\n",
        "\n",
        "def random_init_middle_layer(noise_level = 0.1):\n",
        "  '''A randomly initialized 2x2 linear layer.'''\n",
        "  layer = Linear(2, 2)\n",
        "  with torch.no_grad():\n",
        "    layer.weight.data = torch.Tensor([[2, 2], [-2, -2]])\n",
        "    layer.bias.data = torch.Tensor([-2, 2])\n",
        "  return layer"
      ]
    },
    {
      "cell_type": "code",
      "execution_count": null,
      "metadata": {
        "id": "eAF3gvVxX9gt"
      },
      "outputs": [],
      "source": [
        "# We added this plotting cell for convenience, you may build on these to\n",
        "# explore what the functions you implemented do\n",
        "from functools import partial\n",
        "\n",
        "model = get_sawtooth_network(\n",
        "    num_hidden_layers = 6,\n",
        "    middle_layer = partial(noisy_sawtooth_middle_layer, noise_level=0.7)\n",
        "  )\n",
        "\n",
        "plt.plot(x, model(x).detach());"
      ]
    },
    {
      "cell_type": "markdown",
      "metadata": {
        "id": "8ds5BlF25qJM"
      },
      "source": [
        "#### Interpretation\n",
        "\n",
        "Please summarise your findings (2-3 sentences)."
      ]
    },
    {
      "cell_type": "markdown",
      "metadata": {
        "id": "fg_CxU7ICFmf"
      },
      "source": [
        "## Question B.2: Shallow Sawtooth Network\n",
        "\n",
        "Previously, the sawtooth function was implemented with a deep, narrow neural network, now try implementing it with a wide network using only 3 layers. Hint: See Appeindix C here (https://arxiv.org/pdf/1611.03530.pdf).\n",
        "\n",
        "Repeat the analysis in the previous question and compare the results.\n"
      ]
    },
    {
      "cell_type": "markdown",
      "metadata": {
        "id": "fFp5PouEUW9J"
      },
      "source": [
        "### Answer B.2\n",
        "\n",
        "Please write your code here."
      ]
    },
    {
      "cell_type": "code",
      "execution_count": null,
      "metadata": {
        "id": "XFglarfAA5oy"
      },
      "outputs": [],
      "source": []
    },
    {
      "cell_type": "markdown",
      "metadata": {
        "id": "Ll2nn8QeUkhZ"
      },
      "source": [
        "#### Interpretation\n",
        "\n",
        "Please summarise your findings (2-3 sentences)."
      ]
    },
    {
      "cell_type": "markdown",
      "source": [
        "### Section B Writeup Checklist\n",
        "\n",
        "Please compile your findings into a writeup. Please make sure you include:\n",
        "* 1 figure showing the clean and noisy sawtooth function with deep implementation (may use subfigures so long as it's legible)\n",
        "* 1 figure showing the clean and noisy shawtooth function with shallow implementation (may use subfigures so long as it's legible)\n",
        "* summary paragraph describing the experimental setup for the noisy analyses (how you added noise and how much)\n",
        "* qualitative observations about findings\n",
        "* comparing deep to shallow implementation\n",
        "* drawing conclusions beyond the sawtooth example."
      ],
      "metadata": {
        "id": "CQNt-LGg4JKX"
      }
    },
    {
      "cell_type": "markdown",
      "source": [
        "#C: Inductive Bias of ReLU networks\n",
        "\n",
        "In this exercise we ask you to run your own experiment that demonstrates/reproduces some known inductive biases of neural networks.\n",
        "\n",
        "Examples are:\n",
        "* **bias towards low-complexity boolean functions** As first demonstrated by [Vallé-Perez et al, 2018](https://arxiv.org/abs/1805.08522) randomly initialised neural networks (whose inputs and outputs are binary) have a tendency to implement lower complexity Boolean functions. **Hint:** Instead of using Lempel-Ziv complexity like in the paper, you may find it easier and/or more interesting to choose other measures of complexity, such as those mentioned in [this video](https://www.youtube.com/watch?v=XAhvVn1seUY).\n",
        "* **bias towards low-rank representations:** Look at, for example, Figures 1 or 2 of ([Huh et al, 2023](https://openreview.net/pdf?id=bCiNWDmlY2)). **Hint:** Training results from Figure 1 may be difficult to produce as you want to make sure you tune the learning rates for all depth/rank combinations. The rank analysis at initialization found in Figure 2. would take significantly less time to run.\n",
        "* **spline behaviour:** It has been shown ([Williams et al. 2020](https://proceedings.neurips.cc/paper_files/paper/2019/file/1f6419b1cbe79c71410cb320fc094775-Paper.pdf)) that - subject to some assumtions - gradient descent training dynamics in shallow ReLU networks leads to either cubic splines (in the so called kernel regime) or linear splines (in the so called adaptive regime). The difference between the two regimes is the scale of the random initialization. for details. **Hint:** It is not expected that you follow any details of the theoretical arguments in the paper linked above. It is fine for your investigation to be purely empirical: can you find an example where a trained ReLU network closely matches a cubic spline? Can you change the behaviour by changing initialization scale or learning rates?"
      ],
      "metadata": {
        "id": "pkwEStOO6BZH"
      }
    },
    {
      "cell_type": "markdown",
      "source": [
        "## Section C Writeup Checklist\n",
        "\n",
        "This is an exploratory project, but here is an example of what components you want to include:\n",
        "* a hypothesis: what is the motivation for your work, what do you expect to see or demonstrate.\n",
        "* brief description of methodology, network/optimization parameters, etc\n",
        "* a figure or two summarising your findings\n",
        "* discussion of whether findings support your hypothesis or not, perhaps speculation or explanation about what is going on.\n",
        "\n",
        "Note: if you run your experiments and they don't produce the expected effect, that is perfectly fine, so long as your experiment made sense. Our existing understanding of inductive biases is far from complete, and the observations above may not universal for all architectures and training regimes."
      ],
      "metadata": {
        "id": "kke7CLZ-vE3v"
      }
    },
    {
      "cell_type": "code",
      "source": [],
      "metadata": {
        "id": "d1m6C6WPv4H8"
      },
      "execution_count": null,
      "outputs": []
    }
  ],
  "metadata": {
    "colab": {
      "collapsed_sections": [
        "a1vgSdt8eDvK",
        "RYBjnQak_24-",
        "mnz_7oloAA_t",
        "TLWuahzsAMvE",
        "GUi9QRhGAewP",
        "cLVCqhz5Ao8c",
        "9axs5GFUyIe3",
        "SiMUWjaaA6hR"
      ],
      "provenance": [],
      "include_colab_link": true
    },
    "kernelspec": {
      "display_name": "Python 3",
      "name": "python3"
    },
    "language_info": {
      "name": "python"
    }
  },
  "nbformat": 4,
  "nbformat_minor": 0
}