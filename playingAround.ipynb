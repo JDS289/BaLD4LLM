{
  "cells": [
    {
      "cell_type": "markdown",
      "metadata": {
        "id": "view-in-github",
        "colab_type": "text"
      },
      "source": [
        "<a href=\"https://colab.research.google.com/github/JDS289/BaLD4LLM/blob/main/playingAround.ipynb\" target=\"_parent\"><img src=\"https://colab.research.google.com/assets/colab-badge.svg\" alt=\"Open In Colab\"/></a>"
      ]
    },
    {
      "cell_type": "markdown",
      "metadata": {
        "id": "UCeAN4YwwOFp"
      },
      "source": [
        "Using GPU seems to sometimes cause a CUDA error; using TPU seems to sometimes cause \"Unknown crash\".\n",
        "CPU takes approximately 10x longer than GPU.\n",
        "\n",
        "\n",
        "3B has said False to \"Paris is the capital of France\". Might want to use 8B instead. For now, I'll continue to use 3B for speed/simplicity. This is also justified for \"reproducibility\" reasons, though if accuracy is negligible then switch to a better model.\n",
        "\n",
        "8B works with TPU? (sample size 1)\n",
        "but still insanely slow - hasn't yet answered a single prompt\n",
        "\n",
        "try 3B with a sys_prompt?"
      ]
    },
    {
      "cell_type": "code",
      "execution_count": 1,
      "metadata": {
        "id": "U3K_iOhsKHdw"
      },
      "outputs": [],
      "source": [
        "from google.colab import userdata\n",
        "hf_token = userdata.get(\"huggingface_secret\")\n",
        "\n",
        "from huggingface_hub import login\n",
        "login(token=hf_token)"
      ]
    },
    {
      "cell_type": "code",
      "execution_count": 2,
      "metadata": {
        "id": "UeLRQEhuDhmz"
      },
      "outputs": [],
      "source": [
        "DEFAULT_MODEL = [\"meta-llama/Llama-3.1-8B-Instruct\", \"meta-llama/Llama-3.2-3B-Instruct\"][1]\n",
        "\n",
        "from typing import Optional\n",
        "import os\n",
        "import torch\n",
        "from accelerate import Accelerator\n",
        "from transformers import AutoModelForCausalLM, AutoTokenizer\n",
        "import numpy as np\n",
        "from tqdm.notebook import tqdm\n",
        "\n",
        "#import warnings\n",
        "#warnings.filterwarnings('ignore')\n",
        "\n",
        "\n",
        "# Display first 500 characters of extracted text as preview\n",
        "\n",
        "\n",
        "device = \"cuda\" if torch.cuda.is_available() else \"cpu\"\n",
        "\n",
        "#import os\n",
        "#os.environ[\"CUDA_LAUNCH_BLOCKING\"] = \"1\"\n",
        "\n",
        "\n",
        "SYS_PROMPT = \"\" # experiment with this?\n",
        "\n",
        "\n",
        "#Let's load in the model and start processing the text chunks\n",
        "\n",
        "accelerator = Accelerator()"
      ]
    },
    {
      "cell_type": "code",
      "source": [
        "model = AutoModelForCausalLM.from_pretrained(\n",
        "    DEFAULT_MODEL,\n",
        "    torch_dtype=torch.bfloat16,\n",
        "    use_safetensors=True,\n",
        "    device_map=\"balanced\",\n",
        "    output_hidden_states=True,\n",
        "    return_dict_in_generate=True,\n",
        ")\n",
        "tokenizer = AutoTokenizer.from_pretrained(DEFAULT_MODEL, use_safetensors=True)\n",
        "model, tokenizer = accelerator.prepare(model, tokenizer)\n",
        "model.generation_config.pad_token_id = tokenizer.eos_token_id\n"
      ],
      "metadata": {
        "colab": {
          "base_uri": "https://localhost:8080/",
          "height": 81,
          "referenced_widgets": [
            "c00c7b5f0ceb41d69a1dca1bedb6db19",
            "855e841869f04413b15c2be7ab62b25c",
            "3865046d5318451aa98eb0f32cf88a0e",
            "8f7c4c52c31e40578748c96c394b9ad2",
            "70c1bb37921a4ca886a1e8ba39ae9f6b",
            "4b6bcd0c1b5847c1955ffc3a27afec94",
            "672f51c370bc4b11ab08cb7b4b9d2c5e",
            "07bc9b5ad3d54d67a4e30ac2fd3f8524",
            "9626f02e39c14f24bb1954e963caff0a",
            "2c448fa94b714240a86ad465d551e3d4",
            "56e449468e564ebdb45c690be6ab74c9",
            "c39a93e6e4054e5da6efa0ed7420477b",
            "101a3663f85546a5be9f019accd072bf",
            "49d19cf7498243038634cab17a5f921a",
            "1871bc4ca7394da5bf0844a7ad6f94e2",
            "0a21be6626084ff985844819823427fd",
            "42821b1f4b4d452b9467db9529f2cc48",
            "e0ad398d3237424680fadfbeb1c00368",
            "6ae1d29869c14a37b9dee75d66da2141",
            "f9c00937926540bba0e94b7ec6f63893",
            "3a940a6527b04be785be3923afba6cf6",
            "0cddbbd41af84878a79f5d76a4671f6c",
            "294bd529829b4436b0a0a3267810f04d",
            "ec836c44446d47c6835edfb4b7b7076a",
            "8757f4359a90478d9dc6dd2c14a689a8",
            "0c4e742c22224e1cb7ff4638919a5ed7",
            "85365947c9924984af6e9d09bcce8d06",
            "8c0a7a7832334e1f820279a9a7aa11f8",
            "b964a5d533d74bab8b5698c745f1fd85",
            "5fbec58383294b81abd1d2fdfb256cd4",
            "91a7a02047f6404db0996e255ed504ad",
            "f0b5b75d0a7a4a5786996c0a50ad2969",
            "23a10abb9090401b9b8c821fa3f27b33"
          ]
        },
        "id": "ySDNQT5IfJ_T",
        "outputId": "24df2ddd-f425-48ea-c440-5d23dc138779"
      },
      "execution_count": null,
      "outputs": [
        {
          "output_type": "display_data",
          "data": {
            "text/plain": [
              "Downloading shards:   0%|          | 0/2 [00:00<?, ?it/s]"
            ],
            "application/vnd.jupyter.widget-view+json": {
              "version_major": 2,
              "version_minor": 0,
              "model_id": "c00c7b5f0ceb41d69a1dca1bedb6db19"
            }
          },
          "metadata": {}
        },
        {
          "output_type": "display_data",
          "data": {
            "text/plain": [
              "model-00001-of-00002.safetensors:  21%|##        | 1.03G/4.97G [00:00<?, ?B/s]"
            ],
            "application/vnd.jupyter.widget-view+json": {
              "version_major": 2,
              "version_minor": 0,
              "model_id": "c39a93e6e4054e5da6efa0ed7420477b"
            }
          },
          "metadata": {}
        }
      ]
    },
    {
      "cell_type": "code",
      "execution_count": null,
      "metadata": {
        "id": "zQxqltPihtPI"
      },
      "outputs": [],
      "source": [
        "\"\"\"model = AutoModelForCausalLM.from_pretrained(\n",
        "    DEFAULT_MODEL,\n",
        "    torch_dtype=torch.bfloat16,\n",
        "    use_safetensors=True,\n",
        "    device_map=\"auto\",  # Or try 'balanced' or 'balanced_low_0' for multi-GPU\n",
        "    offload_folder=\"offload\",  # Specify a folder for offloading model weights\n",
        "    offload_state_dict=True,   # Enable offloading the state dict to disk\n",
        "    offload_buffers=True,\n",
        "    output_hidden_states=True,\n",
        "    return_dict_in_generate=True,\n",
        ")\n",
        "tokenizer = AutoTokenizer.from_pretrained(DEFAULT_MODEL, use_safetensors=True)\n",
        "model, tokenizer = accelerator.prepare(model, tokenizer)\n",
        "model.generation_config.pad_token_id = tokenizer.eos_token_id\"\"\""
      ]
    },
    {
      "cell_type": "code",
      "execution_count": null,
      "metadata": {
        "id": "aM35tGkfjJDe"
      },
      "outputs": [],
      "source": [
        "model.generation_config.output_hidden_states = True\n",
        "model.generation_config.return_dict_in_generate = True\n",
        "# print(model.generation_config)"
      ]
    },
    {
      "cell_type": "code",
      "execution_count": null,
      "metadata": {
        "id": "DXEzIPvSZEM-"
      },
      "outputs": [],
      "source": [
        "def process_chunk(text_chunk):\n",
        "    \"\"\"Process a chunk of text and return both input and output for verification\"\"\"\n",
        "    conversation = [\n",
        "        {\"role\": \"system\", \"content\": SYS_PROMPT},\n",
        "        {\"role\": \"user\", \"content\": text_chunk},\n",
        "    ]\n",
        "\n",
        "    prompt = tokenizer.apply_chat_template(conversation, tokenize=False)\n",
        "    inputs = tokenizer(prompt, return_tensors=\"pt\").to(device)\n",
        "\n",
        "    with torch.no_grad():\n",
        "        output = model.generate(\n",
        "            **inputs,\n",
        "            temperature=1, # was 0.7 # maybe check this\n",
        "            top_p=0.9,\n",
        "            max_new_tokens=512\n",
        "        )\n",
        "\n",
        "    processed_text = tokenizer.decode(output.sequences[0], skip_special_tokens=True).strip()\n",
        "    processed_text = processed_text[processed_text.index(\"assistant\") + 11:]\n",
        "\n",
        "\n",
        "    \"\"\"\n",
        "    for i in range(len(output.hidden_states)):\n",
        "        total_shape = np.array(output.hidden_states[i][0].shape)\n",
        "        for j in range(1, len(output.hidden_states[i])):\n",
        "            total_shape += np.array(output.hidden_states[i][j].shape)\n",
        "        print(total_shape)\"\"\"\n",
        "    return processed_text, output.hidden_states"
      ]
    },
    {
      "cell_type": "code",
      "execution_count": null,
      "metadata": {
        "id": "xucrVcWX9-A_"
      },
      "outputs": [],
      "source": [
        "import requests\n",
        "\n",
        "capitals = requests.get(\"https://raw.githubusercontent.com/JDS289/BaLD4LLM/refs/heads/main/country-list.csv\")\n",
        "capitals_dict = {}\n",
        "for string in capitals.content.decode('utf-8').split('\\n')[1 : -1]:\n",
        "  _, country, _, city, _ = string.split('\"')\n",
        "  capitals_dict[country] = city\n",
        "\n",
        "print(capitals_dict)\n"
      ]
    },
    {
      "cell_type": "code",
      "source": [
        "# trying to use fewer words in the prompt, hopefully for faster execution\n",
        "\n",
        "true_list = [f\"Is {capital} the capital of {country}?\" for country, capital in capitals_dict.items()]\n",
        "fixed_order_capitals_dict = list(capitals_dict.items())\n",
        "false_list = [f\"Is {fixed_order_capitals_dict[i][1]} the capital of {fixed_order_capitals_dict[(i+1) % len(capitals_dict)][0]}?\" for i in range(len(capitals_dict))]\n",
        "print(true_list[:10], false_list[:10])\n",
        "\n",
        "def print_ret(x):\n",
        "  print(x[:2])\n",
        "  return x\n",
        "\n",
        "results = [print_ret((q,) + process_chunk(f'{q} (Yes/No)')) for q in tqdm(true_list[:20])]\n",
        "results_false = [print_ret((q,) + process_chunk(f'{q} (Yes/No)')) for q in tqdm(false_list[:20])]\n",
        "\n",
        "statements = []\n",
        "responses = []\n",
        "hidden_statess = []\n",
        "\n",
        "for s, r, h in results:\n",
        "  statements.append(s)\n",
        "  responses.append(r)\n",
        "  hidden_statess.append(h)"
      ],
      "metadata": {
        "id": "aI1LfFZqNwJ5"
      },
      "execution_count": null,
      "outputs": []
    },
    {
      "cell_type": "code",
      "execution_count": null,
      "metadata": {
        "id": "0B1RuLcWY7fR"
      },
      "outputs": [],
      "source": [
        "\"\"\"true_list = [f\"{capital} is the capital city of {country}\" for country, capital in capitals_dict.items()]\n",
        "fixed_order_capitals_dict = list(capitals_dict.items())\n",
        "false_list = [f\"{fixed_order_capitals_dict[i][1]} is the capital city of {fixed_order_capitals_dict[(i+1) % len(capitals_dict)][0]}\" for i in range(len(capitals_dict))]\n",
        "print(false_list[:20])\n",
        "\n",
        "def print_ret(x):\n",
        "  print(x[:2])\n",
        "  return x\n",
        "\n",
        "results = [print_ret((statement,) + process_chunk(f'\"{statement}\". Is this true or false? (Answer ONLY with \"True.\" or \"False.\")')) for statement in tqdm(true_list[:20])]\n",
        "results_false = [print_ret((statement,) + process_chunk(f'\"{statement}\". Is this true or false? (Answer ONLY with \"True.\" or \"False.\")')) for statement in tqdm(false_list[:20])]\n",
        "\n",
        "statements = []\n",
        "responses = []\n",
        "hidden_statess = []\n",
        "\n",
        "for s, r, h in results:\n",
        "  statements.append(s)\n",
        "  responses.append(r)\n",
        "  hidden_statess.append(h)\n",
        "\"\"\""
      ]
    },
    {
      "cell_type": "code",
      "source": [
        "process_chunk(\"hi\")"
      ],
      "metadata": {
        "id": "ukdMLFmAb1JP"
      },
      "execution_count": null,
      "outputs": []
    },
    {
      "cell_type": "code",
      "execution_count": null,
      "metadata": {
        "id": "s8pCFk0fCyt9"
      },
      "outputs": [],
      "source": [
        "print(statements)"
      ]
    },
    {
      "cell_type": "code",
      "execution_count": null,
      "metadata": {
        "id": "bAkvepXIDkY6"
      },
      "outputs": [],
      "source": [
        "# print(len(hidden_statess[0]))\n",
        "print(hidden_statess[0][0])\n",
        "\n",
        "\n",
        "\n",
        "# 7 * 29 * 60 * 3072  for EACH hidden_statess[i]\n",
        "\n",
        "# 7 layers * 29 batches * 60 tokens per input * 3072 activations\n",
        "\n",
        "# idk why there are 29 batches"
      ]
    },
    {
      "cell_type": "code",
      "execution_count": null,
      "metadata": {
        "id": "TUHiva9VFHAE"
      },
      "outputs": [],
      "source": [
        "conversation = [\n",
        "      {\"role\": \"system\", \"content\": SYS_PROMPT},\n",
        "      {\"role\": \"user\", \"content\": f'\"{statements[0]}\". Is this true or false? (Answer ONLY with \"True.\" or \"False.\")'},\n",
        "]\n",
        "\n",
        "prompt = tokenizer.apply_chat_template(conversation, tokenize=False)\n",
        "inputs = tokenizer(prompt, return_tensors=\"pt\").to(device)"
      ]
    },
    {
      "cell_type": "code",
      "execution_count": null,
      "metadata": {
        "id": "RqXJ1yUwF-HN"
      },
      "outputs": [],
      "source": [
        "print(inputs[\"input_ids\"].shape)"
      ]
    }
  ],
  "metadata": {
    "colab": {
      "provenance": [],
      "gpuType": "T4",
      "authorship_tag": "ABX9TyPypbl58NTLNZAp5bEYVkIg",
      "include_colab_link": true
    },
    "kernelspec": {
      "display_name": "Python 3",
      "name": "python3"
    },
    "language_info": {
      "name": "python"
    },
    "widgets": {
      "application/vnd.jupyter.widget-state+json": {
        "c00c7b5f0ceb41d69a1dca1bedb6db19": {
          "model_module": "@jupyter-widgets/controls",
          "model_name": "HBoxModel",
          "model_module_version": "1.5.0",
          "state": {
            "_dom_classes": [],
            "_model_module": "@jupyter-widgets/controls",
            "_model_module_version": "1.5.0",
            "_model_name": "HBoxModel",
            "_view_count": null,
            "_view_module": "@jupyter-widgets/controls",
            "_view_module_version": "1.5.0",
            "_view_name": "HBoxView",
            "box_style": "",
            "children": [
              "IPY_MODEL_855e841869f04413b15c2be7ab62b25c",
              "IPY_MODEL_3865046d5318451aa98eb0f32cf88a0e",
              "IPY_MODEL_8f7c4c52c31e40578748c96c394b9ad2"
            ],
            "layout": "IPY_MODEL_70c1bb37921a4ca886a1e8ba39ae9f6b"
          }
        },
        "855e841869f04413b15c2be7ab62b25c": {
          "model_module": "@jupyter-widgets/controls",
          "model_name": "HTMLModel",
          "model_module_version": "1.5.0",
          "state": {
            "_dom_classes": [],
            "_model_module": "@jupyter-widgets/controls",
            "_model_module_version": "1.5.0",
            "_model_name": "HTMLModel",
            "_view_count": null,
            "_view_module": "@jupyter-widgets/controls",
            "_view_module_version": "1.5.0",
            "_view_name": "HTMLView",
            "description": "",
            "description_tooltip": null,
            "layout": "IPY_MODEL_4b6bcd0c1b5847c1955ffc3a27afec94",
            "placeholder": "​",
            "style": "IPY_MODEL_672f51c370bc4b11ab08cb7b4b9d2c5e",
            "value": "Downloading shards:  50%"
          }
        },
        "3865046d5318451aa98eb0f32cf88a0e": {
          "model_module": "@jupyter-widgets/controls",
          "model_name": "FloatProgressModel",
          "model_module_version": "1.5.0",
          "state": {
            "_dom_classes": [],
            "_model_module": "@jupyter-widgets/controls",
            "_model_module_version": "1.5.0",
            "_model_name": "FloatProgressModel",
            "_view_count": null,
            "_view_module": "@jupyter-widgets/controls",
            "_view_module_version": "1.5.0",
            "_view_name": "ProgressView",
            "bar_style": "",
            "description": "",
            "description_tooltip": null,
            "layout": "IPY_MODEL_07bc9b5ad3d54d67a4e30ac2fd3f8524",
            "max": 2,
            "min": 0,
            "orientation": "horizontal",
            "style": "IPY_MODEL_9626f02e39c14f24bb1954e963caff0a",
            "value": 1
          }
        },
        "8f7c4c52c31e40578748c96c394b9ad2": {
          "model_module": "@jupyter-widgets/controls",
          "model_name": "HTMLModel",
          "model_module_version": "1.5.0",
          "state": {
            "_dom_classes": [],
            "_model_module": "@jupyter-widgets/controls",
            "_model_module_version": "1.5.0",
            "_model_name": "HTMLModel",
            "_view_count": null,
            "_view_module": "@jupyter-widgets/controls",
            "_view_module_version": "1.5.0",
            "_view_name": "HTMLView",
            "description": "",
            "description_tooltip": null,
            "layout": "IPY_MODEL_2c448fa94b714240a86ad465d551e3d4",
            "placeholder": "​",
            "style": "IPY_MODEL_56e449468e564ebdb45c690be6ab74c9",
            "value": " 1/2 [01:34&lt;01:34, 94.09s/it]"
          }
        },
        "70c1bb37921a4ca886a1e8ba39ae9f6b": {
          "model_module": "@jupyter-widgets/base",
          "model_name": "LayoutModel",
          "model_module_version": "1.2.0",
          "state": {
            "_model_module": "@jupyter-widgets/base",
            "_model_module_version": "1.2.0",
            "_model_name": "LayoutModel",
            "_view_count": null,
            "_view_module": "@jupyter-widgets/base",
            "_view_module_version": "1.2.0",
            "_view_name": "LayoutView",
            "align_content": null,
            "align_items": null,
            "align_self": null,
            "border": null,
            "bottom": null,
            "display": null,
            "flex": null,
            "flex_flow": null,
            "grid_area": null,
            "grid_auto_columns": null,
            "grid_auto_flow": null,
            "grid_auto_rows": null,
            "grid_column": null,
            "grid_gap": null,
            "grid_row": null,
            "grid_template_areas": null,
            "grid_template_columns": null,
            "grid_template_rows": null,
            "height": null,
            "justify_content": null,
            "justify_items": null,
            "left": null,
            "margin": null,
            "max_height": null,
            "max_width": null,
            "min_height": null,
            "min_width": null,
            "object_fit": null,
            "object_position": null,
            "order": null,
            "overflow": null,
            "overflow_x": null,
            "overflow_y": null,
            "padding": null,
            "right": null,
            "top": null,
            "visibility": null,
            "width": null
          }
        },
        "4b6bcd0c1b5847c1955ffc3a27afec94": {
          "model_module": "@jupyter-widgets/base",
          "model_name": "LayoutModel",
          "model_module_version": "1.2.0",
          "state": {
            "_model_module": "@jupyter-widgets/base",
            "_model_module_version": "1.2.0",
            "_model_name": "LayoutModel",
            "_view_count": null,
            "_view_module": "@jupyter-widgets/base",
            "_view_module_version": "1.2.0",
            "_view_name": "LayoutView",
            "align_content": null,
            "align_items": null,
            "align_self": null,
            "border": null,
            "bottom": null,
            "display": null,
            "flex": null,
            "flex_flow": null,
            "grid_area": null,
            "grid_auto_columns": null,
            "grid_auto_flow": null,
            "grid_auto_rows": null,
            "grid_column": null,
            "grid_gap": null,
            "grid_row": null,
            "grid_template_areas": null,
            "grid_template_columns": null,
            "grid_template_rows": null,
            "height": null,
            "justify_content": null,
            "justify_items": null,
            "left": null,
            "margin": null,
            "max_height": null,
            "max_width": null,
            "min_height": null,
            "min_width": null,
            "object_fit": null,
            "object_position": null,
            "order": null,
            "overflow": null,
            "overflow_x": null,
            "overflow_y": null,
            "padding": null,
            "right": null,
            "top": null,
            "visibility": null,
            "width": null
          }
        },
        "672f51c370bc4b11ab08cb7b4b9d2c5e": {
          "model_module": "@jupyter-widgets/controls",
          "model_name": "DescriptionStyleModel",
          "model_module_version": "1.5.0",
          "state": {
            "_model_module": "@jupyter-widgets/controls",
            "_model_module_version": "1.5.0",
            "_model_name": "DescriptionStyleModel",
            "_view_count": null,
            "_view_module": "@jupyter-widgets/base",
            "_view_module_version": "1.2.0",
            "_view_name": "StyleView",
            "description_width": ""
          }
        },
        "07bc9b5ad3d54d67a4e30ac2fd3f8524": {
          "model_module": "@jupyter-widgets/base",
          "model_name": "LayoutModel",
          "model_module_version": "1.2.0",
          "state": {
            "_model_module": "@jupyter-widgets/base",
            "_model_module_version": "1.2.0",
            "_model_name": "LayoutModel",
            "_view_count": null,
            "_view_module": "@jupyter-widgets/base",
            "_view_module_version": "1.2.0",
            "_view_name": "LayoutView",
            "align_content": null,
            "align_items": null,
            "align_self": null,
            "border": null,
            "bottom": null,
            "display": null,
            "flex": null,
            "flex_flow": null,
            "grid_area": null,
            "grid_auto_columns": null,
            "grid_auto_flow": null,
            "grid_auto_rows": null,
            "grid_column": null,
            "grid_gap": null,
            "grid_row": null,
            "grid_template_areas": null,
            "grid_template_columns": null,
            "grid_template_rows": null,
            "height": null,
            "justify_content": null,
            "justify_items": null,
            "left": null,
            "margin": null,
            "max_height": null,
            "max_width": null,
            "min_height": null,
            "min_width": null,
            "object_fit": null,
            "object_position": null,
            "order": null,
            "overflow": null,
            "overflow_x": null,
            "overflow_y": null,
            "padding": null,
            "right": null,
            "top": null,
            "visibility": null,
            "width": null
          }
        },
        "9626f02e39c14f24bb1954e963caff0a": {
          "model_module": "@jupyter-widgets/controls",
          "model_name": "ProgressStyleModel",
          "model_module_version": "1.5.0",
          "state": {
            "_model_module": "@jupyter-widgets/controls",
            "_model_module_version": "1.5.0",
            "_model_name": "ProgressStyleModel",
            "_view_count": null,
            "_view_module": "@jupyter-widgets/base",
            "_view_module_version": "1.2.0",
            "_view_name": "StyleView",
            "bar_color": null,
            "description_width": ""
          }
        },
        "2c448fa94b714240a86ad465d551e3d4": {
          "model_module": "@jupyter-widgets/base",
          "model_name": "LayoutModel",
          "model_module_version": "1.2.0",
          "state": {
            "_model_module": "@jupyter-widgets/base",
            "_model_module_version": "1.2.0",
            "_model_name": "LayoutModel",
            "_view_count": null,
            "_view_module": "@jupyter-widgets/base",
            "_view_module_version": "1.2.0",
            "_view_name": "LayoutView",
            "align_content": null,
            "align_items": null,
            "align_self": null,
            "border": null,
            "bottom": null,
            "display": null,
            "flex": null,
            "flex_flow": null,
            "grid_area": null,
            "grid_auto_columns": null,
            "grid_auto_flow": null,
            "grid_auto_rows": null,
            "grid_column": null,
            "grid_gap": null,
            "grid_row": null,
            "grid_template_areas": null,
            "grid_template_columns": null,
            "grid_template_rows": null,
            "height": null,
            "justify_content": null,
            "justify_items": null,
            "left": null,
            "margin": null,
            "max_height": null,
            "max_width": null,
            "min_height": null,
            "min_width": null,
            "object_fit": null,
            "object_position": null,
            "order": null,
            "overflow": null,
            "overflow_x": null,
            "overflow_y": null,
            "padding": null,
            "right": null,
            "top": null,
            "visibility": null,
            "width": null
          }
        },
        "56e449468e564ebdb45c690be6ab74c9": {
          "model_module": "@jupyter-widgets/controls",
          "model_name": "DescriptionStyleModel",
          "model_module_version": "1.5.0",
          "state": {
            "_model_module": "@jupyter-widgets/controls",
            "_model_module_version": "1.5.0",
            "_model_name": "DescriptionStyleModel",
            "_view_count": null,
            "_view_module": "@jupyter-widgets/base",
            "_view_module_version": "1.2.0",
            "_view_name": "StyleView",
            "description_width": ""
          }
        },
        "c39a93e6e4054e5da6efa0ed7420477b": {
          "model_module": "@jupyter-widgets/controls",
          "model_name": "HBoxModel",
          "model_module_version": "1.5.0",
          "state": {
            "_dom_classes": [],
            "_model_module": "@jupyter-widgets/controls",
            "_model_module_version": "1.5.0",
            "_model_name": "HBoxModel",
            "_view_count": null,
            "_view_module": "@jupyter-widgets/controls",
            "_view_module_version": "1.5.0",
            "_view_name": "HBoxView",
            "box_style": "",
            "children": [
              "IPY_MODEL_101a3663f85546a5be9f019accd072bf",
              "IPY_MODEL_49d19cf7498243038634cab17a5f921a",
              "IPY_MODEL_1871bc4ca7394da5bf0844a7ad6f94e2"
            ],
            "layout": "IPY_MODEL_0a21be6626084ff985844819823427fd"
          }
        },
        "101a3663f85546a5be9f019accd072bf": {
          "model_module": "@jupyter-widgets/controls",
          "model_name": "HTMLModel",
          "model_module_version": "1.5.0",
          "state": {
            "_dom_classes": [],
            "_model_module": "@jupyter-widgets/controls",
            "_model_module_version": "1.5.0",
            "_model_name": "HTMLModel",
            "_view_count": null,
            "_view_module": "@jupyter-widgets/controls",
            "_view_module_version": "1.5.0",
            "_view_name": "HTMLView",
            "description": "",
            "description_tooltip": null,
            "layout": "IPY_MODEL_42821b1f4b4d452b9467db9529f2cc48",
            "placeholder": "​",
            "style": "IPY_MODEL_e0ad398d3237424680fadfbeb1c00368",
            "value": "model-00001-of-00002.safetensors: 100%"
          }
        },
        "49d19cf7498243038634cab17a5f921a": {
          "model_module": "@jupyter-widgets/controls",
          "model_name": "FloatProgressModel",
          "model_module_version": "1.5.0",
          "state": {
            "_dom_classes": [],
            "_model_module": "@jupyter-widgets/controls",
            "_model_module_version": "1.5.0",
            "_model_name": "FloatProgressModel",
            "_view_count": null,
            "_view_module": "@jupyter-widgets/controls",
            "_view_module_version": "1.5.0",
            "_view_name": "ProgressView",
            "bar_style": "success",
            "description": "",
            "description_tooltip": null,
            "layout": "IPY_MODEL_6ae1d29869c14a37b9dee75d66da2141",
            "max": 4965799096,
            "min": 0,
            "orientation": "horizontal",
            "style": "IPY_MODEL_f9c00937926540bba0e94b7ec6f63893",
            "value": 4965799096
          }
        },
        "1871bc4ca7394da5bf0844a7ad6f94e2": {
          "model_module": "@jupyter-widgets/controls",
          "model_name": "HTMLModel",
          "model_module_version": "1.5.0",
          "state": {
            "_dom_classes": [],
            "_model_module": "@jupyter-widgets/controls",
            "_model_module_version": "1.5.0",
            "_model_name": "HTMLModel",
            "_view_count": null,
            "_view_module": "@jupyter-widgets/controls",
            "_view_module_version": "1.5.0",
            "_view_name": "HTMLView",
            "description": "",
            "description_tooltip": null,
            "layout": "IPY_MODEL_3a940a6527b04be785be3923afba6cf6",
            "placeholder": "​",
            "style": "IPY_MODEL_0cddbbd41af84878a79f5d76a4671f6c",
            "value": " 4.97G/4.97G [01:33&lt;00:00, 42.6MB/s]"
          }
        },
        "0a21be6626084ff985844819823427fd": {
          "model_module": "@jupyter-widgets/base",
          "model_name": "LayoutModel",
          "model_module_version": "1.2.0",
          "state": {
            "_model_module": "@jupyter-widgets/base",
            "_model_module_version": "1.2.0",
            "_model_name": "LayoutModel",
            "_view_count": null,
            "_view_module": "@jupyter-widgets/base",
            "_view_module_version": "1.2.0",
            "_view_name": "LayoutView",
            "align_content": null,
            "align_items": null,
            "align_self": null,
            "border": null,
            "bottom": null,
            "display": null,
            "flex": null,
            "flex_flow": null,
            "grid_area": null,
            "grid_auto_columns": null,
            "grid_auto_flow": null,
            "grid_auto_rows": null,
            "grid_column": null,
            "grid_gap": null,
            "grid_row": null,
            "grid_template_areas": null,
            "grid_template_columns": null,
            "grid_template_rows": null,
            "height": null,
            "justify_content": null,
            "justify_items": null,
            "left": null,
            "margin": null,
            "max_height": null,
            "max_width": null,
            "min_height": null,
            "min_width": null,
            "object_fit": null,
            "object_position": null,
            "order": null,
            "overflow": null,
            "overflow_x": null,
            "overflow_y": null,
            "padding": null,
            "right": null,
            "top": null,
            "visibility": null,
            "width": null
          }
        },
        "42821b1f4b4d452b9467db9529f2cc48": {
          "model_module": "@jupyter-widgets/base",
          "model_name": "LayoutModel",
          "model_module_version": "1.2.0",
          "state": {
            "_model_module": "@jupyter-widgets/base",
            "_model_module_version": "1.2.0",
            "_model_name": "LayoutModel",
            "_view_count": null,
            "_view_module": "@jupyter-widgets/base",
            "_view_module_version": "1.2.0",
            "_view_name": "LayoutView",
            "align_content": null,
            "align_items": null,
            "align_self": null,
            "border": null,
            "bottom": null,
            "display": null,
            "flex": null,
            "flex_flow": null,
            "grid_area": null,
            "grid_auto_columns": null,
            "grid_auto_flow": null,
            "grid_auto_rows": null,
            "grid_column": null,
            "grid_gap": null,
            "grid_row": null,
            "grid_template_areas": null,
            "grid_template_columns": null,
            "grid_template_rows": null,
            "height": null,
            "justify_content": null,
            "justify_items": null,
            "left": null,
            "margin": null,
            "max_height": null,
            "max_width": null,
            "min_height": null,
            "min_width": null,
            "object_fit": null,
            "object_position": null,
            "order": null,
            "overflow": null,
            "overflow_x": null,
            "overflow_y": null,
            "padding": null,
            "right": null,
            "top": null,
            "visibility": null,
            "width": null
          }
        },
        "e0ad398d3237424680fadfbeb1c00368": {
          "model_module": "@jupyter-widgets/controls",
          "model_name": "DescriptionStyleModel",
          "model_module_version": "1.5.0",
          "state": {
            "_model_module": "@jupyter-widgets/controls",
            "_model_module_version": "1.5.0",
            "_model_name": "DescriptionStyleModel",
            "_view_count": null,
            "_view_module": "@jupyter-widgets/base",
            "_view_module_version": "1.2.0",
            "_view_name": "StyleView",
            "description_width": ""
          }
        },
        "6ae1d29869c14a37b9dee75d66da2141": {
          "model_module": "@jupyter-widgets/base",
          "model_name": "LayoutModel",
          "model_module_version": "1.2.0",
          "state": {
            "_model_module": "@jupyter-widgets/base",
            "_model_module_version": "1.2.0",
            "_model_name": "LayoutModel",
            "_view_count": null,
            "_view_module": "@jupyter-widgets/base",
            "_view_module_version": "1.2.0",
            "_view_name": "LayoutView",
            "align_content": null,
            "align_items": null,
            "align_self": null,
            "border": null,
            "bottom": null,
            "display": null,
            "flex": null,
            "flex_flow": null,
            "grid_area": null,
            "grid_auto_columns": null,
            "grid_auto_flow": null,
            "grid_auto_rows": null,
            "grid_column": null,
            "grid_gap": null,
            "grid_row": null,
            "grid_template_areas": null,
            "grid_template_columns": null,
            "grid_template_rows": null,
            "height": null,
            "justify_content": null,
            "justify_items": null,
            "left": null,
            "margin": null,
            "max_height": null,
            "max_width": null,
            "min_height": null,
            "min_width": null,
            "object_fit": null,
            "object_position": null,
            "order": null,
            "overflow": null,
            "overflow_x": null,
            "overflow_y": null,
            "padding": null,
            "right": null,
            "top": null,
            "visibility": null,
            "width": null
          }
        },
        "f9c00937926540bba0e94b7ec6f63893": {
          "model_module": "@jupyter-widgets/controls",
          "model_name": "ProgressStyleModel",
          "model_module_version": "1.5.0",
          "state": {
            "_model_module": "@jupyter-widgets/controls",
            "_model_module_version": "1.5.0",
            "_model_name": "ProgressStyleModel",
            "_view_count": null,
            "_view_module": "@jupyter-widgets/base",
            "_view_module_version": "1.2.0",
            "_view_name": "StyleView",
            "bar_color": null,
            "description_width": ""
          }
        },
        "3a940a6527b04be785be3923afba6cf6": {
          "model_module": "@jupyter-widgets/base",
          "model_name": "LayoutModel",
          "model_module_version": "1.2.0",
          "state": {
            "_model_module": "@jupyter-widgets/base",
            "_model_module_version": "1.2.0",
            "_model_name": "LayoutModel",
            "_view_count": null,
            "_view_module": "@jupyter-widgets/base",
            "_view_module_version": "1.2.0",
            "_view_name": "LayoutView",
            "align_content": null,
            "align_items": null,
            "align_self": null,
            "border": null,
            "bottom": null,
            "display": null,
            "flex": null,
            "flex_flow": null,
            "grid_area": null,
            "grid_auto_columns": null,
            "grid_auto_flow": null,
            "grid_auto_rows": null,
            "grid_column": null,
            "grid_gap": null,
            "grid_row": null,
            "grid_template_areas": null,
            "grid_template_columns": null,
            "grid_template_rows": null,
            "height": null,
            "justify_content": null,
            "justify_items": null,
            "left": null,
            "margin": null,
            "max_height": null,
            "max_width": null,
            "min_height": null,
            "min_width": null,
            "object_fit": null,
            "object_position": null,
            "order": null,
            "overflow": null,
            "overflow_x": null,
            "overflow_y": null,
            "padding": null,
            "right": null,
            "top": null,
            "visibility": null,
            "width": null
          }
        },
        "0cddbbd41af84878a79f5d76a4671f6c": {
          "model_module": "@jupyter-widgets/controls",
          "model_name": "DescriptionStyleModel",
          "model_module_version": "1.5.0",
          "state": {
            "_model_module": "@jupyter-widgets/controls",
            "_model_module_version": "1.5.0",
            "_model_name": "DescriptionStyleModel",
            "_view_count": null,
            "_view_module": "@jupyter-widgets/base",
            "_view_module_version": "1.2.0",
            "_view_name": "StyleView",
            "description_width": ""
          }
        }
      }
    },
    "accelerator": "GPU"
  },
  "nbformat": 4,
  "nbformat_minor": 0
}