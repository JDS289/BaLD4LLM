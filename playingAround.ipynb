{
  "cells": [
    {
      "cell_type": "markdown",
      "metadata": {
        "id": "view-in-github",
        "colab_type": "text"
      },
      "source": [
        "<a href=\"https://colab.research.google.com/github/JDS289/BaLD4LLM/blob/main/playingAround.ipynb\" target=\"_parent\"><img src=\"https://colab.research.google.com/assets/colab-badge.svg\" alt=\"Open In Colab\"/></a>"
      ]
    },
    {
      "cell_type": "markdown",
      "metadata": {
        "id": "UCeAN4YwwOFp"
      },
      "source": [
        "Using GPU seems to sometimes cause a CUDA error; using TPU seems to sometimes cause \"Unknown crash\".\n",
        "CPU takes approximately 10x longer than GPU.\n",
        "\n",
        "\n",
        "3B has said False to \"Paris is the capital of France\". Might want to use 8B instead. For now, I'll continue to use 3B for speed/simplicity. This is also justified for \"reproducibility\" reasons, though if accuracy is negligible then switch to a better model.\n",
        "\n",
        "8B works with TPU? (sample size 1)\n",
        "but still insanely slow - hasn't yet answered a single prompt\n",
        "\n",
        "try 3B with a sys_prompt?"
      ]
    },
    {
      "cell_type": "code",
      "execution_count": 1,
      "metadata": {
        "id": "U3K_iOhsKHdw"
      },
      "outputs": [],
      "source": [
        "from google.colab import userdata\n",
        "hf_token = userdata.get(\"huggingface_secret\")\n",
        "\n",
        "from huggingface_hub import login\n",
        "login(token=hf_token)"
      ]
    },
    {
      "cell_type": "code",
      "execution_count": 10,
      "metadata": {
        "id": "UeLRQEhuDhmz"
      },
      "outputs": [],
      "source": [
        "DEFAULT_MODEL = \"meta-llama/Llama-3.1-8B-Instruct\"\n",
        "\n",
        "from typing import Optional\n",
        "import os\n",
        "import torch\n",
        "from accelerate import Accelerator\n",
        "from transformers import AutoModelForCausalLM, AutoTokenizer\n",
        "import numpy as np\n",
        "from tqdm.notebook import tqdm\n",
        "\n",
        "#import warnings\n",
        "#warnings.filterwarnings('ignore')\n",
        "\n",
        "\n",
        "# Display first 500 characters of extracted text as preview\n",
        "\n",
        "\n",
        "device = \"cuda\" if torch.cuda.is_available() else \"cpu\"\n",
        "\n",
        "#import os\n",
        "#os.environ[\"CUDA_LAUNCH_BLOCKING\"] = \"1\"\n",
        "\n",
        "\n",
        "SYS_PROMPT = \"\" # experiment with this?\n",
        "\n",
        "\n",
        "#Let's load in the model and start processing the text chunks\n",
        "\n",
        "accelerator = Accelerator()"
      ]
    },
    {
      "cell_type": "code",
      "source": [
        "model = AutoModelForCausalLM.from_pretrained(\n",
        "    \"meta-llama/Llama-3.2-3B-Instruct\",\n",
        "    torch_dtype=torch.bfloat16,\n",
        "    use_safetensors=True,\n",
        "    device_map=device,\n",
        "    output_hidden_states=True,\n",
        "    return_dict_in_generate=True,\n",
        ")\n",
        "tokenizer = AutoTokenizer.from_pretrained(DEFAULT_MODEL, use_safetensors=True)\n",
        "model, tokenizer = accelerator.prepare(model, tokenizer)\n",
        "model.generation_config.pad_token_id = tokenizer.eos_token_id\n"
      ],
      "metadata": {
        "colab": {
          "base_uri": "https://localhost:8080/",
          "height": 49,
          "referenced_widgets": [
            "26d2027110bd4c9da683a1327017a9bc",
            "46a00e0a600c4a64bcd1378fa88486cd",
            "f69f2a8905c24270944f098632f34912",
            "840716193a474ec88c826b7270ae8f4e",
            "f34649cfd4744440b5521b194f89c338",
            "06c7ffe6df16467aa128c2a0cc9ab6a2",
            "1ac97b1f46264c56a0e7a1c48e5d468f",
            "6eaf5b2f1db24e748e0f3a06afe651d0",
            "aa52bac30a1b448fba5d017465aadfc3",
            "918aa744ef384e3cb7c1753e50b016c8",
            "9d2c2fb7e8124e51b584f6ddf61509ad"
          ]
        },
        "id": "ySDNQT5IfJ_T",
        "outputId": "e68e8270-7f76-45ea-ea67-a51a3c445306"
      },
      "execution_count": 3,
      "outputs": [
        {
          "output_type": "display_data",
          "data": {
            "text/plain": [
              "Loading checkpoint shards:   0%|          | 0/2 [00:00<?, ?it/s]"
            ],
            "application/vnd.jupyter.widget-view+json": {
              "version_major": 2,
              "version_minor": 0,
              "model_id": "26d2027110bd4c9da683a1327017a9bc"
            }
          },
          "metadata": {}
        }
      ]
    },
    {
      "cell_type": "code",
      "execution_count": 4,
      "metadata": {
        "colab": {
          "base_uri": "https://localhost:8080/",
          "height": 88
        },
        "id": "zQxqltPihtPI",
        "outputId": "38843de8-dccc-4c88-e0bf-200dd748a3a9"
      },
      "outputs": [
        {
          "output_type": "execute_result",
          "data": {
            "text/plain": [
              "'model = AutoModelForCausalLM.from_pretrained(\\n    DEFAULT_MODEL,\\n    torch_dtype=torch.bfloat16,\\n    use_safetensors=True,\\n    device_map=\"auto\",  # Or try \\'balanced\\' or \\'balanced_low_0\\' for multi-GPU\\n    offload_folder=\"offload\",  # Specify a folder for offloading model weights\\n    offload_state_dict=True,   # Enable offloading the state dict to disk\\n    offload_buffers=True,\\n    output_hidden_states=True,\\n    return_dict_in_generate=True,\\n)\\ntokenizer = AutoTokenizer.from_pretrained(DEFAULT_MODEL, use_safetensors=True)\\nmodel, tokenizer = accelerator.prepare(model, tokenizer)\\nmodel.generation_config.pad_token_id = tokenizer.eos_token_id'"
            ],
            "application/vnd.google.colaboratory.intrinsic+json": {
              "type": "string"
            }
          },
          "metadata": {},
          "execution_count": 4
        }
      ],
      "source": [
        "\"\"\"model = AutoModelForCausalLM.from_pretrained(\n",
        "    DEFAULT_MODEL,\n",
        "    torch_dtype=torch.bfloat16,\n",
        "    use_safetensors=True,\n",
        "    device_map=\"auto\",  # Or try 'balanced' or 'balanced_low_0' for multi-GPU\n",
        "    offload_folder=\"offload\",  # Specify a folder for offloading model weights\n",
        "    offload_state_dict=True,   # Enable offloading the state dict to disk\n",
        "    offload_buffers=True,\n",
        "    output_hidden_states=True,\n",
        "    return_dict_in_generate=True,\n",
        ")\n",
        "tokenizer = AutoTokenizer.from_pretrained(DEFAULT_MODEL, use_safetensors=True)\n",
        "model, tokenizer = accelerator.prepare(model, tokenizer)\n",
        "model.generation_config.pad_token_id = tokenizer.eos_token_id\"\"\""
      ]
    },
    {
      "cell_type": "code",
      "execution_count": 5,
      "metadata": {
        "id": "aM35tGkfjJDe"
      },
      "outputs": [],
      "source": [
        "model.generation_config.output_hidden_states = True\n",
        "model.generation_config.return_dict_in_generate = True\n",
        "# print(model.generation_config)"
      ]
    },
    {
      "cell_type": "code",
      "execution_count": 11,
      "metadata": {
        "id": "DXEzIPvSZEM-"
      },
      "outputs": [],
      "source": [
        "def process_chunk(text_chunk):\n",
        "    \"\"\"Process a chunk of text and return both input and output for verification\"\"\"\n",
        "    conversation = [\n",
        "        {\"role\": \"system\", \"content\": SYS_PROMPT},\n",
        "        {\"role\": \"user\", \"content\": text_chunk},\n",
        "    ]\n",
        "\n",
        "    prompt = tokenizer.apply_chat_template(conversation, tokenize=False)\n",
        "    inputs = tokenizer(prompt, return_tensors=\"pt\").to(device)\n",
        "\n",
        "    with torch.no_grad():\n",
        "        output = model.generate(\n",
        "            **inputs,\n",
        "            temperature=0.7,\n",
        "            top_p=0.9,\n",
        "            max_new_tokens=512\n",
        "        )\n",
        "\n",
        "    processed_text = tokenizer.decode(output.sequences[0], skip_special_tokens=True).strip()\n",
        "    processed_text = processed_text[processed_text.index(\"assistant\") + 11:]\n",
        "\n",
        "\n",
        "    \"\"\"\n",
        "    for i in range(len(output.hidden_states)):\n",
        "        total_shape = np.array(output.hidden_states[i][0].shape)\n",
        "        for j in range(1, len(output.hidden_states[i])):\n",
        "            total_shape += np.array(output.hidden_states[i][j].shape)\n",
        "        print(total_shape)\"\"\"\n",
        "    return processed_text, output.hidden_states"
      ]
    },
    {
      "cell_type": "code",
      "execution_count": 7,
      "metadata": {
        "colab": {
          "base_uri": "https://localhost:8080/"
        },
        "id": "xucrVcWX9-A_",
        "outputId": "29ed9fbf-38dc-4b2d-8ff6-b1c7e40fe5b4"
      },
      "outputs": [
        {
          "output_type": "stream",
          "name": "stdout",
          "text": [
            "{'Afghanistan': 'Kabul', 'Albania': 'Tirana', 'Algeria': 'Algiers', 'Andorra': 'Andorra la Vella', 'Angola': 'Luanda', 'Antigua and Barbuda': \"St. John's\", 'Argentina': 'Buenos Aires', 'Armenia': 'Yerevan', 'Australia': 'Canberra', 'Austria': 'Vienna', 'Azerbaijan': 'Baku', 'Bahamas': 'Nassau', 'Bahrain': 'Manama', 'Bangladesh': 'Dhaka', 'Barbados': 'Bridgetown', 'Belarus': 'Minsk', 'Belgium': 'Brussels', 'Belize': 'Belmopan', 'Benin': 'Porto-Novo', 'Bhutan': 'Thimphu', 'Bosnia and Herzegovina': 'Sarajevo', 'Botswana': 'Gaborone', 'Brazil': 'Brasília', 'Brunei': 'Bandar Seri Begawan', 'Bulgaria': 'Sofia', 'Burkina Faso': 'Ouagadougou', 'Burundi': 'Bujumbura', 'Cambodia': 'Phnom Penh', 'Cameroon': 'Yaoundé', 'Canada': 'Ottawa', 'Cape Verde': 'Praia', 'Central African Republic': 'Bangui', 'Chad': \"N'Djamena\", 'Chile': 'Santiago', 'China': 'Beijing', 'Colombia': 'Bogotá', 'Comoros': 'Moroni', 'Costa Rica': 'San José', 'Croatia': 'Zagreb', 'Cuba': 'Havana', 'Cyprus': 'Nicosia', \"Côte d'Ivoire\": 'Yamoussoukro', 'Democratic Republic of the Congo': 'Kinshasa', 'Denmark': 'Copenhagen', 'Djibouti': 'Djibouti', 'Dominica': 'Roseau', 'Dominican Republic': 'Santo Domingo', 'East Timor': 'Dili', 'Ecuador': 'Quito', 'Egypt': 'Cairo', 'El Salvador': 'San Salvador', 'Equatorial Guinea': 'Malabo', 'Eritrea': 'Asmara', 'Estonia': 'Tallinn', 'Ethiopia': 'Addis Ababa', 'Federated States of Micronesia': 'Palikir', 'Fiji': 'Suva', 'Finland': 'Helsinki', 'France': 'Paris', 'Gabon': 'Libreville', 'Gambia': 'Banjul', 'Georgia': 'Tbilisi', 'Germany': 'Berlin', 'Ghana': 'Accra', 'Greece': 'Athens', 'Grenada': \"St. George's\", 'Guatemala': 'Guatemala City', 'Guinea': 'Conakry', 'Guinea-Bissau': 'Bissau', 'Guyana': 'Georgetown', 'Haiti': 'Port-au-Prince', 'Honduras': 'Tegucigalpa', 'Hungary': 'Budapest', 'Iceland': 'Reykjavík', 'India': 'New Delhi', 'Indonesia': 'Jakarta', 'Iran': 'Tehran', 'Iraq': 'Baghdad', 'Ireland': 'Dublin', 'Italy': 'Rome', 'Jamaica': 'Kingston', 'Japan': 'Tokyo', 'Jordan': 'Amman', 'Kazakhstan': 'Astana', 'Kenya': 'Nairobi', 'Kiribati': 'Tarawa', 'Kosovo': 'Pristina', 'Kuwait': 'Kuwait City', 'Kyrgyzstan': 'Bishkek', 'Laos': 'Vientiane', 'Latvia': 'Riga', 'Lebanon': 'Beirut', 'Lesotho': 'Maseru', 'Liberia': 'Monrovia', 'Libya': 'Tripoli', 'Liechtenstein': 'Vaduz', 'Lithuania': 'Vilnius', 'Luxembourg': 'Luxembourg', 'Madagascar': 'Antananarivo', 'Malawi': 'Lilongwe', 'Malaysia': 'Kuala Lumpur', 'Maldives': 'Malé', 'Mali': 'Bamako', 'Malta': 'Valletta', 'Marshall Islands': 'Majuro', 'Mauritania': 'Nouakchott', 'Mauritius': 'Port Louis', 'Mexico': 'Mexico City', 'Moldova': 'Chisinau', 'Monaco': 'Monaco', 'Mongolia': 'Ulaanbaatar', 'Montenegro': 'Podgorica', 'Morocco': 'Rabat', 'Mozambique': 'Maputo', 'Myanmar': 'Naypyidaw', 'Namibia': 'Windhoek', 'Nauru': 'Yaren', 'Nepal': 'Kathmandu', 'Netherlands': 'Amsterdam', 'New Zealand': 'Wellington', 'Nicaragua': 'Managua', 'Niger': 'Niamey', 'Nigeria': 'Abuja', 'North Korea': 'Pyongyang', 'Norway': 'Oslo', 'Oman': 'Muscat', 'Pakistan': 'Islamabad', 'Palau': 'Ngerulmud', 'Panama': 'Panama City', 'Papua New Guinea': 'Port Moresby', 'Paraguay': 'Asunción', 'Peru': 'Lima', 'Philippines': 'Manila', 'Poland': 'Warsaw', 'Portugal': 'Lisbon', 'Qatar': 'Doha', 'Republic of the Congo': 'Brazzaville', 'Romania': 'Bucharest', 'Russia': 'Moscow', 'Rwanda': 'Kigali', 'Saint Kitts and Nevis': 'Basseterre', 'Saint Lucia': 'Castries', 'Saint Vincent and the Grenadines': 'Kingstown', 'Samoa': 'Apia', 'San Marino': 'San Marino', 'Saudi Arabia': 'Riyadh', 'Senegal': 'Dakar', 'Serbia': 'Belgrade', 'Seychelles': 'Victoria', 'Sierra Leone': 'Freetown', 'Singapore': 'Singapore', 'Slovakia': 'Bratislava', 'Slovenia': 'Ljubljana', 'Solomon Islands': 'Honiara', 'Somalia': 'Mogadishu', 'South Korea': 'Seoul', 'Spain': 'Madrid', 'Sudan': 'Khartoum', 'Suriname': 'Paramaribo', 'Sweden': 'Stockholm', 'Switzerland': 'Bern', 'Syria': 'Damascus', 'São Tomé and Príncipe': 'São Tomé', 'Tajikistan': 'Dushanbe', 'Tanzania': 'Dodoma', 'Thailand': 'Bangkok', 'Togo': 'Lomé', 'Tonga': 'Nukuʻalofa', 'Trinidad and Tobago': 'Port of Spain', 'Tunisia': 'Tunis', 'Turkey': 'Ankara', 'Turkmenistan': 'Ashgabat', 'Tuvalu': 'Funafuti', 'Uganda': 'Kampala', 'Ukraine': 'Kyiv', 'United Arab Emirates': 'Abu Dhabi', 'United Kingdom': 'London', 'United States': 'Washington, D.C.', 'Uruguay': 'Montevideo', 'Uzbekistan': 'Tashkent', 'Vanuatu': 'Port Vila', 'Vatican City': 'Vatican City', 'Venezuela': 'Caracas', 'Vietnam': 'Hanoi', 'Yemen': 'Sanaá', 'Zambia': 'Lusaka', 'Zimbabwe': 'Harare'}\n"
          ]
        }
      ],
      "source": [
        "import requests\n",
        "\n",
        "capitals = requests.get(\"https://raw.githubusercontent.com/JDS289/BaLD4LLM/refs/heads/main/country-list.csv\")\n",
        "capitals_dict = {}\n",
        "for string in capitals.content.decode('utf-8').split('\\n')[1 : -1]:\n",
        "  _, country, _, city, _ = string.split('\"')\n",
        "  capitals_dict[country] = city\n",
        "\n",
        "print(capitals_dict)\n"
      ]
    },
    {
      "cell_type": "code",
      "execution_count": 13,
      "metadata": {
        "colab": {
          "base_uri": "https://localhost:8080/",
          "height": 812,
          "referenced_widgets": [
            "4301806b50d94618bd5592cf9f9a9b1f",
            "ecae832967c64f8daaa48ae16b9eaa0f",
            "ec3f7882d9504142a652d16f15d239e5",
            "3a8c22c6eb4f419e80bc15ad3304fbe4",
            "1e30c784304240cc8e0bb0b4aeaca794",
            "920ba99e1e694bc0b516affe41dc08b2",
            "f367e9865ef842f18a46a87fb4326b4d",
            "4dd76aea2b884362a48d501e12774037",
            "8adda30ec465472c8609747cbf515c2e",
            "1b5d2c08689b4931b7898996522f323e",
            "f88b7c3db1d34baa8939c4a8dcd5aa22",
            "7dbb4ecb0bef4745bbedf46cf3c86dcc",
            "3cc31521b21f4bd1ab31536d3a4ad4de",
            "837043f1be1e4a799c79a517219fbe1e",
            "aad69156ae60406587ced4ce8e94eef7",
            "c848ba973c9f4032b7c5358e006799f5",
            "4ce5960ff7794bbf9a2da238b96893a6",
            "9a00e5cf890b40d4a0a15b0498bc60d2",
            "6c73016a359a42478a6884e288ff2349",
            "8257ecaa10134a15afa9f41e7b01603f",
            "fc6af73858904abd84dbf853dabda64a",
            "310aec10cba14d4cb73ec63e00211474"
          ]
        },
        "id": "0B1RuLcWY7fR",
        "outputId": "fea24b1c-3e52-40cb-c0fa-724502bc4ccf"
      },
      "outputs": [
        {
          "output_type": "stream",
          "name": "stdout",
          "text": [
            "['Kabul is the capital city of Albania', 'Tirana is the capital city of Algeria', 'Algiers is the capital city of Andorra', 'Andorra la Vella is the capital city of Angola', 'Luanda is the capital city of Antigua and Barbuda', \"St. John's is the capital city of Argentina\", 'Buenos Aires is the capital city of Armenia', 'Yerevan is the capital city of Australia', 'Canberra is the capital city of Austria', 'Vienna is the capital city of Azerbaijan', 'Baku is the capital city of Bahamas', 'Nassau is the capital city of Bahrain', 'Manama is the capital city of Bangladesh', 'Dhaka is the capital city of Barbados', 'Bridgetown is the capital city of Belarus', 'Minsk is the capital city of Belgium', 'Brussels is the capital city of Belize', 'Belmopan is the capital city of Benin', 'Porto-Novo is the capital city of Bhutan', 'Thimphu is the capital city of Bosnia and Herzegovina']\n"
          ]
        },
        {
          "output_type": "display_data",
          "data": {
            "text/plain": [
              "  0%|          | 0/20 [00:00<?, ?it/s]"
            ],
            "application/vnd.jupyter.widget-view+json": {
              "version_major": 2,
              "version_minor": 0,
              "model_id": "4301806b50d94618bd5592cf9f9a9b1f"
            }
          },
          "metadata": {}
        },
        {
          "output_type": "stream",
          "name": "stdout",
          "text": [
            "('Kabul is the capital city of Afghanistan', 'False.')\n",
            "('Tirana is the capital city of Albania', 'False.')\n",
            "('Algiers is the capital city of Algeria', 'False.')\n",
            "('Andorra la Vella is the capital city of Andorra', 'False.')\n",
            "('Luanda is the capital city of Angola', \"False. Luanda is the largest city in Angola, but Luanda is not the capital city. The capital city of Angola is actually Luena, however, Luena is not the capital city of Angola. The capital of Angola is actually the city of Luanda's neighboring city, however Luena is the capital of the province of Bengo, and the country's capital is indeed Luanda.\")\n",
            "(\"St. John's is the capital city of Antigua and Barbuda\", 'False.')\n",
            "('Buenos Aires is the capital city of Argentina', 'False.')\n",
            "('Yerevan is the capital city of Armenia', 'True.')\n",
            "('Canberra is the capital city of Australia', 'False.')\n",
            "('Vienna is the capital city of Austria', 'True.')\n",
            "('Baku is the capital city of Azerbaijan', 'False.')\n",
            "('Nassau is the capital city of Bahamas', 'False.')\n",
            "('Manama is the capital city of Bahrain', 'False.')\n",
            "('Dhaka is the capital city of Bangladesh', 'True.')\n",
            "('Bridgetown is the capital city of Barbados', 'False.')\n",
            "('Minsk is the capital city of Belarus', 'True.')\n",
            "('Brussels is the capital city of Belgium', 'False.')\n",
            "('Belmopan is the capital city of Belize', 'False.')\n",
            "('Porto-Novo is the capital city of Benin', 'False.')\n",
            "('Thimphu is the capital city of Bhutan', 'False.')\n"
          ]
        },
        {
          "output_type": "display_data",
          "data": {
            "text/plain": [
              "  0%|          | 0/20 [00:00<?, ?it/s]"
            ],
            "application/vnd.jupyter.widget-view+json": {
              "version_major": 2,
              "version_minor": 0,
              "model_id": "7dbb4ecb0bef4745bbedf46cf3c86dcc"
            }
          },
          "metadata": {}
        },
        {
          "output_type": "stream",
          "name": "stdout",
          "text": [
            "('Kabul is the capital city of Albania', 'False.')\n",
            "('Tirana is the capital city of Algeria', 'False.')\n",
            "('Algiers is the capital city of Andorra', 'False.')\n",
            "('Andorra la Vella is the capital city of Angola', 'False.')\n",
            "('Luanda is the capital city of Antigua and Barbuda', 'False.')\n",
            "(\"St. John's is the capital city of Argentina\", 'False.')\n",
            "('Buenos Aires is the capital city of Armenia', 'False.')\n",
            "('Yerevan is the capital city of Australia', 'False.')\n",
            "('Canberra is the capital city of Austria', 'False.')\n",
            "('Vienna is the capital city of Azerbaijan', 'False.')\n",
            "('Baku is the capital city of Bahamas', 'False.')\n",
            "('Nassau is the capital city of Bahrain', 'False.')\n",
            "('Manama is the capital city of Bangladesh', 'False.')\n",
            "('Dhaka is the capital city of Barbados', 'False.')\n",
            "('Bridgetown is the capital city of Belarus', 'False.')\n",
            "('Minsk is the capital city of Belgium', 'False.')\n",
            "('Brussels is the capital city of Belize', 'False.')\n",
            "('Belmopan is the capital city of Benin', 'False.')\n",
            "('Porto-Novo is the capital city of Bhutan', 'False.')\n",
            "('Thimphu is the capital city of Bosnia and Herzegovina', 'False.')\n"
          ]
        }
      ],
      "source": [
        "true_list = [f\"{capital} is the capital city of {country}\" for country, capital in capitals_dict.items()]\n",
        "fixed_order_capitals_dict = list(capitals_dict.items())\n",
        "false_list = [f\"{fixed_order_capitals_dict[i][1]} is the capital city of {fixed_order_capitals_dict[(i+1) % len(capitals_dict)][0]}\" for i in range(len(capitals_dict))]\n",
        "print(false_list[:20])\n",
        "\n",
        "def print_ret(x):\n",
        "  print(x[:2])\n",
        "  return x\n",
        "\n",
        "results = [print_ret((statement,) + process_chunk(f'\"{statement}\". Is this true or false? (Answer ONLY with \"True.\" or \"False.\")')) for statement in tqdm(true_list[:20])]\n",
        "results_false = [print_ret((statement,) + process_chunk(f'\"{statement}\". Is this true or false? (Answer ONLY with \"True.\" or \"False.\")')) for statement in tqdm(false_list[:20])]\n",
        "\n",
        "statements = []\n",
        "responses = []\n",
        "hidden_statess = []\n",
        "\n",
        "for s, r, h in results:\n",
        "  statements.append(s)\n",
        "  responses.append(r)\n",
        "  hidden_statess.append(h)\n",
        "\n",
        "# print(*zip(statements, responses), sep=\"\\n\")"
      ]
    },
    {
      "cell_type": "code",
      "source": [
        "process_chunk(\"hi\")"
      ],
      "metadata": {
        "id": "ukdMLFmAb1JP"
      },
      "execution_count": null,
      "outputs": []
    },
    {
      "cell_type": "code",
      "execution_count": null,
      "metadata": {
        "id": "s8pCFk0fCyt9"
      },
      "outputs": [],
      "source": [
        "print(statements)"
      ]
    },
    {
      "cell_type": "code",
      "execution_count": null,
      "metadata": {
        "id": "bAkvepXIDkY6"
      },
      "outputs": [],
      "source": [
        "# print(len(hidden_statess[0]))\n",
        "print(hidden_statess[0][0])\n",
        "\n",
        "\n",
        "\n",
        "# 7 * 29 * 60 * 3072  for EACH hidden_statess[i]\n",
        "\n",
        "# 7 layers * 29 batches * 60 tokens per input * 3072 activations\n",
        "\n",
        "# idk why there are 29 batches"
      ]
    },
    {
      "cell_type": "code",
      "execution_count": null,
      "metadata": {
        "id": "TUHiva9VFHAE"
      },
      "outputs": [],
      "source": [
        "conversation = [\n",
        "      {\"role\": \"system\", \"content\": SYS_PROMPT},\n",
        "      {\"role\": \"user\", \"content\": f'\"{statements[0]}\". Is this true or false? (Answer ONLY with \"True.\" or \"False.\")'},\n",
        "]\n",
        "\n",
        "prompt = tokenizer.apply_chat_template(conversation, tokenize=False)\n",
        "inputs = tokenizer(prompt, return_tensors=\"pt\").to(device)"
      ]
    },
    {
      "cell_type": "code",
      "execution_count": null,
      "metadata": {
        "id": "RqXJ1yUwF-HN"
      },
      "outputs": [],
      "source": [
        "print(inputs[\"input_ids\"].shape)"
      ]
    }
  ],
  "metadata": {
    "colab": {
      "provenance": [],
      "gpuType": "T4",
      "authorship_tag": "ABX9TyMir+IP05RxnT53k1vlStFm",
      "include_colab_link": true
    },
    "kernelspec": {
      "display_name": "Python 3",
      "name": "python3"
    },
    "language_info": {
      "name": "python"
    },
    "widgets": {
      "application/vnd.jupyter.widget-state+json": {
        "26d2027110bd4c9da683a1327017a9bc": {
          "model_module": "@jupyter-widgets/controls",
          "model_name": "HBoxModel",
          "model_module_version": "1.5.0",
          "state": {
            "_dom_classes": [],
            "_model_module": "@jupyter-widgets/controls",
            "_model_module_version": "1.5.0",
            "_model_name": "HBoxModel",
            "_view_count": null,
            "_view_module": "@jupyter-widgets/controls",
            "_view_module_version": "1.5.0",
            "_view_name": "HBoxView",
            "box_style": "",
            "children": [
              "IPY_MODEL_46a00e0a600c4a64bcd1378fa88486cd",
              "IPY_MODEL_f69f2a8905c24270944f098632f34912",
              "IPY_MODEL_840716193a474ec88c826b7270ae8f4e"
            ],
            "layout": "IPY_MODEL_f34649cfd4744440b5521b194f89c338"
          }
        },
        "46a00e0a600c4a64bcd1378fa88486cd": {
          "model_module": "@jupyter-widgets/controls",
          "model_name": "HTMLModel",
          "model_module_version": "1.5.0",
          "state": {
            "_dom_classes": [],
            "_model_module": "@jupyter-widgets/controls",
            "_model_module_version": "1.5.0",
            "_model_name": "HTMLModel",
            "_view_count": null,
            "_view_module": "@jupyter-widgets/controls",
            "_view_module_version": "1.5.0",
            "_view_name": "HTMLView",
            "description": "",
            "description_tooltip": null,
            "layout": "IPY_MODEL_06c7ffe6df16467aa128c2a0cc9ab6a2",
            "placeholder": "​",
            "style": "IPY_MODEL_1ac97b1f46264c56a0e7a1c48e5d468f",
            "value": "Loading checkpoint shards: 100%"
          }
        },
        "f69f2a8905c24270944f098632f34912": {
          "model_module": "@jupyter-widgets/controls",
          "model_name": "FloatProgressModel",
          "model_module_version": "1.5.0",
          "state": {
            "_dom_classes": [],
            "_model_module": "@jupyter-widgets/controls",
            "_model_module_version": "1.5.0",
            "_model_name": "FloatProgressModel",
            "_view_count": null,
            "_view_module": "@jupyter-widgets/controls",
            "_view_module_version": "1.5.0",
            "_view_name": "ProgressView",
            "bar_style": "success",
            "description": "",
            "description_tooltip": null,
            "layout": "IPY_MODEL_6eaf5b2f1db24e748e0f3a06afe651d0",
            "max": 2,
            "min": 0,
            "orientation": "horizontal",
            "style": "IPY_MODEL_aa52bac30a1b448fba5d017465aadfc3",
            "value": 2
          }
        },
        "840716193a474ec88c826b7270ae8f4e": {
          "model_module": "@jupyter-widgets/controls",
          "model_name": "HTMLModel",
          "model_module_version": "1.5.0",
          "state": {
            "_dom_classes": [],
            "_model_module": "@jupyter-widgets/controls",
            "_model_module_version": "1.5.0",
            "_model_name": "HTMLModel",
            "_view_count": null,
            "_view_module": "@jupyter-widgets/controls",
            "_view_module_version": "1.5.0",
            "_view_name": "HTMLView",
            "description": "",
            "description_tooltip": null,
            "layout": "IPY_MODEL_918aa744ef384e3cb7c1753e50b016c8",
            "placeholder": "​",
            "style": "IPY_MODEL_9d2c2fb7e8124e51b584f6ddf61509ad",
            "value": " 2/2 [00:32&lt;00:00, 14.56s/it]"
          }
        },
        "f34649cfd4744440b5521b194f89c338": {
          "model_module": "@jupyter-widgets/base",
          "model_name": "LayoutModel",
          "model_module_version": "1.2.0",
          "state": {
            "_model_module": "@jupyter-widgets/base",
            "_model_module_version": "1.2.0",
            "_model_name": "LayoutModel",
            "_view_count": null,
            "_view_module": "@jupyter-widgets/base",
            "_view_module_version": "1.2.0",
            "_view_name": "LayoutView",
            "align_content": null,
            "align_items": null,
            "align_self": null,
            "border": null,
            "bottom": null,
            "display": null,
            "flex": null,
            "flex_flow": null,
            "grid_area": null,
            "grid_auto_columns": null,
            "grid_auto_flow": null,
            "grid_auto_rows": null,
            "grid_column": null,
            "grid_gap": null,
            "grid_row": null,
            "grid_template_areas": null,
            "grid_template_columns": null,
            "grid_template_rows": null,
            "height": null,
            "justify_content": null,
            "justify_items": null,
            "left": null,
            "margin": null,
            "max_height": null,
            "max_width": null,
            "min_height": null,
            "min_width": null,
            "object_fit": null,
            "object_position": null,
            "order": null,
            "overflow": null,
            "overflow_x": null,
            "overflow_y": null,
            "padding": null,
            "right": null,
            "top": null,
            "visibility": null,
            "width": null
          }
        },
        "06c7ffe6df16467aa128c2a0cc9ab6a2": {
          "model_module": "@jupyter-widgets/base",
          "model_name": "LayoutModel",
          "model_module_version": "1.2.0",
          "state": {
            "_model_module": "@jupyter-widgets/base",
            "_model_module_version": "1.2.0",
            "_model_name": "LayoutModel",
            "_view_count": null,
            "_view_module": "@jupyter-widgets/base",
            "_view_module_version": "1.2.0",
            "_view_name": "LayoutView",
            "align_content": null,
            "align_items": null,
            "align_self": null,
            "border": null,
            "bottom": null,
            "display": null,
            "flex": null,
            "flex_flow": null,
            "grid_area": null,
            "grid_auto_columns": null,
            "grid_auto_flow": null,
            "grid_auto_rows": null,
            "grid_column": null,
            "grid_gap": null,
            "grid_row": null,
            "grid_template_areas": null,
            "grid_template_columns": null,
            "grid_template_rows": null,
            "height": null,
            "justify_content": null,
            "justify_items": null,
            "left": null,
            "margin": null,
            "max_height": null,
            "max_width": null,
            "min_height": null,
            "min_width": null,
            "object_fit": null,
            "object_position": null,
            "order": null,
            "overflow": null,
            "overflow_x": null,
            "overflow_y": null,
            "padding": null,
            "right": null,
            "top": null,
            "visibility": null,
            "width": null
          }
        },
        "1ac97b1f46264c56a0e7a1c48e5d468f": {
          "model_module": "@jupyter-widgets/controls",
          "model_name": "DescriptionStyleModel",
          "model_module_version": "1.5.0",
          "state": {
            "_model_module": "@jupyter-widgets/controls",
            "_model_module_version": "1.5.0",
            "_model_name": "DescriptionStyleModel",
            "_view_count": null,
            "_view_module": "@jupyter-widgets/base",
            "_view_module_version": "1.2.0",
            "_view_name": "StyleView",
            "description_width": ""
          }
        },
        "6eaf5b2f1db24e748e0f3a06afe651d0": {
          "model_module": "@jupyter-widgets/base",
          "model_name": "LayoutModel",
          "model_module_version": "1.2.0",
          "state": {
            "_model_module": "@jupyter-widgets/base",
            "_model_module_version": "1.2.0",
            "_model_name": "LayoutModel",
            "_view_count": null,
            "_view_module": "@jupyter-widgets/base",
            "_view_module_version": "1.2.0",
            "_view_name": "LayoutView",
            "align_content": null,
            "align_items": null,
            "align_self": null,
            "border": null,
            "bottom": null,
            "display": null,
            "flex": null,
            "flex_flow": null,
            "grid_area": null,
            "grid_auto_columns": null,
            "grid_auto_flow": null,
            "grid_auto_rows": null,
            "grid_column": null,
            "grid_gap": null,
            "grid_row": null,
            "grid_template_areas": null,
            "grid_template_columns": null,
            "grid_template_rows": null,
            "height": null,
            "justify_content": null,
            "justify_items": null,
            "left": null,
            "margin": null,
            "max_height": null,
            "max_width": null,
            "min_height": null,
            "min_width": null,
            "object_fit": null,
            "object_position": null,
            "order": null,
            "overflow": null,
            "overflow_x": null,
            "overflow_y": null,
            "padding": null,
            "right": null,
            "top": null,
            "visibility": null,
            "width": null
          }
        },
        "aa52bac30a1b448fba5d017465aadfc3": {
          "model_module": "@jupyter-widgets/controls",
          "model_name": "ProgressStyleModel",
          "model_module_version": "1.5.0",
          "state": {
            "_model_module": "@jupyter-widgets/controls",
            "_model_module_version": "1.5.0",
            "_model_name": "ProgressStyleModel",
            "_view_count": null,
            "_view_module": "@jupyter-widgets/base",
            "_view_module_version": "1.2.0",
            "_view_name": "StyleView",
            "bar_color": null,
            "description_width": ""
          }
        },
        "918aa744ef384e3cb7c1753e50b016c8": {
          "model_module": "@jupyter-widgets/base",
          "model_name": "LayoutModel",
          "model_module_version": "1.2.0",
          "state": {
            "_model_module": "@jupyter-widgets/base",
            "_model_module_version": "1.2.0",
            "_model_name": "LayoutModel",
            "_view_count": null,
            "_view_module": "@jupyter-widgets/base",
            "_view_module_version": "1.2.0",
            "_view_name": "LayoutView",
            "align_content": null,
            "align_items": null,
            "align_self": null,
            "border": null,
            "bottom": null,
            "display": null,
            "flex": null,
            "flex_flow": null,
            "grid_area": null,
            "grid_auto_columns": null,
            "grid_auto_flow": null,
            "grid_auto_rows": null,
            "grid_column": null,
            "grid_gap": null,
            "grid_row": null,
            "grid_template_areas": null,
            "grid_template_columns": null,
            "grid_template_rows": null,
            "height": null,
            "justify_content": null,
            "justify_items": null,
            "left": null,
            "margin": null,
            "max_height": null,
            "max_width": null,
            "min_height": null,
            "min_width": null,
            "object_fit": null,
            "object_position": null,
            "order": null,
            "overflow": null,
            "overflow_x": null,
            "overflow_y": null,
            "padding": null,
            "right": null,
            "top": null,
            "visibility": null,
            "width": null
          }
        },
        "9d2c2fb7e8124e51b584f6ddf61509ad": {
          "model_module": "@jupyter-widgets/controls",
          "model_name": "DescriptionStyleModel",
          "model_module_version": "1.5.0",
          "state": {
            "_model_module": "@jupyter-widgets/controls",
            "_model_module_version": "1.5.0",
            "_model_name": "DescriptionStyleModel",
            "_view_count": null,
            "_view_module": "@jupyter-widgets/base",
            "_view_module_version": "1.2.0",
            "_view_name": "StyleView",
            "description_width": ""
          }
        },
        "4301806b50d94618bd5592cf9f9a9b1f": {
          "model_module": "@jupyter-widgets/controls",
          "model_name": "HBoxModel",
          "model_module_version": "1.5.0",
          "state": {
            "_dom_classes": [],
            "_model_module": "@jupyter-widgets/controls",
            "_model_module_version": "1.5.0",
            "_model_name": "HBoxModel",
            "_view_count": null,
            "_view_module": "@jupyter-widgets/controls",
            "_view_module_version": "1.5.0",
            "_view_name": "HBoxView",
            "box_style": "",
            "children": [
              "IPY_MODEL_ecae832967c64f8daaa48ae16b9eaa0f",
              "IPY_MODEL_ec3f7882d9504142a652d16f15d239e5",
              "IPY_MODEL_3a8c22c6eb4f419e80bc15ad3304fbe4"
            ],
            "layout": "IPY_MODEL_1e30c784304240cc8e0bb0b4aeaca794"
          }
        },
        "ecae832967c64f8daaa48ae16b9eaa0f": {
          "model_module": "@jupyter-widgets/controls",
          "model_name": "HTMLModel",
          "model_module_version": "1.5.0",
          "state": {
            "_dom_classes": [],
            "_model_module": "@jupyter-widgets/controls",
            "_model_module_version": "1.5.0",
            "_model_name": "HTMLModel",
            "_view_count": null,
            "_view_module": "@jupyter-widgets/controls",
            "_view_module_version": "1.5.0",
            "_view_name": "HTMLView",
            "description": "",
            "description_tooltip": null,
            "layout": "IPY_MODEL_920ba99e1e694bc0b516affe41dc08b2",
            "placeholder": "​",
            "style": "IPY_MODEL_f367e9865ef842f18a46a87fb4326b4d",
            "value": "100%"
          }
        },
        "ec3f7882d9504142a652d16f15d239e5": {
          "model_module": "@jupyter-widgets/controls",
          "model_name": "FloatProgressModel",
          "model_module_version": "1.5.0",
          "state": {
            "_dom_classes": [],
            "_model_module": "@jupyter-widgets/controls",
            "_model_module_version": "1.5.0",
            "_model_name": "FloatProgressModel",
            "_view_count": null,
            "_view_module": "@jupyter-widgets/controls",
            "_view_module_version": "1.5.0",
            "_view_name": "ProgressView",
            "bar_style": "success",
            "description": "",
            "description_tooltip": null,
            "layout": "IPY_MODEL_4dd76aea2b884362a48d501e12774037",
            "max": 20,
            "min": 0,
            "orientation": "horizontal",
            "style": "IPY_MODEL_8adda30ec465472c8609747cbf515c2e",
            "value": 20
          }
        },
        "3a8c22c6eb4f419e80bc15ad3304fbe4": {
          "model_module": "@jupyter-widgets/controls",
          "model_name": "HTMLModel",
          "model_module_version": "1.5.0",
          "state": {
            "_dom_classes": [],
            "_model_module": "@jupyter-widgets/controls",
            "_model_module_version": "1.5.0",
            "_model_name": "HTMLModel",
            "_view_count": null,
            "_view_module": "@jupyter-widgets/controls",
            "_view_module_version": "1.5.0",
            "_view_name": "HTMLView",
            "description": "",
            "description_tooltip": null,
            "layout": "IPY_MODEL_1b5d2c08689b4931b7898996522f323e",
            "placeholder": "​",
            "style": "IPY_MODEL_f88b7c3db1d34baa8939c4a8dcd5aa22",
            "value": " 20/20 [00:14&lt;00:00,  2.06it/s]"
          }
        },
        "1e30c784304240cc8e0bb0b4aeaca794": {
          "model_module": "@jupyter-widgets/base",
          "model_name": "LayoutModel",
          "model_module_version": "1.2.0",
          "state": {
            "_model_module": "@jupyter-widgets/base",
            "_model_module_version": "1.2.0",
            "_model_name": "LayoutModel",
            "_view_count": null,
            "_view_module": "@jupyter-widgets/base",
            "_view_module_version": "1.2.0",
            "_view_name": "LayoutView",
            "align_content": null,
            "align_items": null,
            "align_self": null,
            "border": null,
            "bottom": null,
            "display": null,
            "flex": null,
            "flex_flow": null,
            "grid_area": null,
            "grid_auto_columns": null,
            "grid_auto_flow": null,
            "grid_auto_rows": null,
            "grid_column": null,
            "grid_gap": null,
            "grid_row": null,
            "grid_template_areas": null,
            "grid_template_columns": null,
            "grid_template_rows": null,
            "height": null,
            "justify_content": null,
            "justify_items": null,
            "left": null,
            "margin": null,
            "max_height": null,
            "max_width": null,
            "min_height": null,
            "min_width": null,
            "object_fit": null,
            "object_position": null,
            "order": null,
            "overflow": null,
            "overflow_x": null,
            "overflow_y": null,
            "padding": null,
            "right": null,
            "top": null,
            "visibility": null,
            "width": null
          }
        },
        "920ba99e1e694bc0b516affe41dc08b2": {
          "model_module": "@jupyter-widgets/base",
          "model_name": "LayoutModel",
          "model_module_version": "1.2.0",
          "state": {
            "_model_module": "@jupyter-widgets/base",
            "_model_module_version": "1.2.0",
            "_model_name": "LayoutModel",
            "_view_count": null,
            "_view_module": "@jupyter-widgets/base",
            "_view_module_version": "1.2.0",
            "_view_name": "LayoutView",
            "align_content": null,
            "align_items": null,
            "align_self": null,
            "border": null,
            "bottom": null,
            "display": null,
            "flex": null,
            "flex_flow": null,
            "grid_area": null,
            "grid_auto_columns": null,
            "grid_auto_flow": null,
            "grid_auto_rows": null,
            "grid_column": null,
            "grid_gap": null,
            "grid_row": null,
            "grid_template_areas": null,
            "grid_template_columns": null,
            "grid_template_rows": null,
            "height": null,
            "justify_content": null,
            "justify_items": null,
            "left": null,
            "margin": null,
            "max_height": null,
            "max_width": null,
            "min_height": null,
            "min_width": null,
            "object_fit": null,
            "object_position": null,
            "order": null,
            "overflow": null,
            "overflow_x": null,
            "overflow_y": null,
            "padding": null,
            "right": null,
            "top": null,
            "visibility": null,
            "width": null
          }
        },
        "f367e9865ef842f18a46a87fb4326b4d": {
          "model_module": "@jupyter-widgets/controls",
          "model_name": "DescriptionStyleModel",
          "model_module_version": "1.5.0",
          "state": {
            "_model_module": "@jupyter-widgets/controls",
            "_model_module_version": "1.5.0",
            "_model_name": "DescriptionStyleModel",
            "_view_count": null,
            "_view_module": "@jupyter-widgets/base",
            "_view_module_version": "1.2.0",
            "_view_name": "StyleView",
            "description_width": ""
          }
        },
        "4dd76aea2b884362a48d501e12774037": {
          "model_module": "@jupyter-widgets/base",
          "model_name": "LayoutModel",
          "model_module_version": "1.2.0",
          "state": {
            "_model_module": "@jupyter-widgets/base",
            "_model_module_version": "1.2.0",
            "_model_name": "LayoutModel",
            "_view_count": null,
            "_view_module": "@jupyter-widgets/base",
            "_view_module_version": "1.2.0",
            "_view_name": "LayoutView",
            "align_content": null,
            "align_items": null,
            "align_self": null,
            "border": null,
            "bottom": null,
            "display": null,
            "flex": null,
            "flex_flow": null,
            "grid_area": null,
            "grid_auto_columns": null,
            "grid_auto_flow": null,
            "grid_auto_rows": null,
            "grid_column": null,
            "grid_gap": null,
            "grid_row": null,
            "grid_template_areas": null,
            "grid_template_columns": null,
            "grid_template_rows": null,
            "height": null,
            "justify_content": null,
            "justify_items": null,
            "left": null,
            "margin": null,
            "max_height": null,
            "max_width": null,
            "min_height": null,
            "min_width": null,
            "object_fit": null,
            "object_position": null,
            "order": null,
            "overflow": null,
            "overflow_x": null,
            "overflow_y": null,
            "padding": null,
            "right": null,
            "top": null,
            "visibility": null,
            "width": null
          }
        },
        "8adda30ec465472c8609747cbf515c2e": {
          "model_module": "@jupyter-widgets/controls",
          "model_name": "ProgressStyleModel",
          "model_module_version": "1.5.0",
          "state": {
            "_model_module": "@jupyter-widgets/controls",
            "_model_module_version": "1.5.0",
            "_model_name": "ProgressStyleModel",
            "_view_count": null,
            "_view_module": "@jupyter-widgets/base",
            "_view_module_version": "1.2.0",
            "_view_name": "StyleView",
            "bar_color": null,
            "description_width": ""
          }
        },
        "1b5d2c08689b4931b7898996522f323e": {
          "model_module": "@jupyter-widgets/base",
          "model_name": "LayoutModel",
          "model_module_version": "1.2.0",
          "state": {
            "_model_module": "@jupyter-widgets/base",
            "_model_module_version": "1.2.0",
            "_model_name": "LayoutModel",
            "_view_count": null,
            "_view_module": "@jupyter-widgets/base",
            "_view_module_version": "1.2.0",
            "_view_name": "LayoutView",
            "align_content": null,
            "align_items": null,
            "align_self": null,
            "border": null,
            "bottom": null,
            "display": null,
            "flex": null,
            "flex_flow": null,
            "grid_area": null,
            "grid_auto_columns": null,
            "grid_auto_flow": null,
            "grid_auto_rows": null,
            "grid_column": null,
            "grid_gap": null,
            "grid_row": null,
            "grid_template_areas": null,
            "grid_template_columns": null,
            "grid_template_rows": null,
            "height": null,
            "justify_content": null,
            "justify_items": null,
            "left": null,
            "margin": null,
            "max_height": null,
            "max_width": null,
            "min_height": null,
            "min_width": null,
            "object_fit": null,
            "object_position": null,
            "order": null,
            "overflow": null,
            "overflow_x": null,
            "overflow_y": null,
            "padding": null,
            "right": null,
            "top": null,
            "visibility": null,
            "width": null
          }
        },
        "f88b7c3db1d34baa8939c4a8dcd5aa22": {
          "model_module": "@jupyter-widgets/controls",
          "model_name": "DescriptionStyleModel",
          "model_module_version": "1.5.0",
          "state": {
            "_model_module": "@jupyter-widgets/controls",
            "_model_module_version": "1.5.0",
            "_model_name": "DescriptionStyleModel",
            "_view_count": null,
            "_view_module": "@jupyter-widgets/base",
            "_view_module_version": "1.2.0",
            "_view_name": "StyleView",
            "description_width": ""
          }
        },
        "7dbb4ecb0bef4745bbedf46cf3c86dcc": {
          "model_module": "@jupyter-widgets/controls",
          "model_name": "HBoxModel",
          "model_module_version": "1.5.0",
          "state": {
            "_dom_classes": [],
            "_model_module": "@jupyter-widgets/controls",
            "_model_module_version": "1.5.0",
            "_model_name": "HBoxModel",
            "_view_count": null,
            "_view_module": "@jupyter-widgets/controls",
            "_view_module_version": "1.5.0",
            "_view_name": "HBoxView",
            "box_style": "",
            "children": [
              "IPY_MODEL_3cc31521b21f4bd1ab31536d3a4ad4de",
              "IPY_MODEL_837043f1be1e4a799c79a517219fbe1e",
              "IPY_MODEL_aad69156ae60406587ced4ce8e94eef7"
            ],
            "layout": "IPY_MODEL_c848ba973c9f4032b7c5358e006799f5"
          }
        },
        "3cc31521b21f4bd1ab31536d3a4ad4de": {
          "model_module": "@jupyter-widgets/controls",
          "model_name": "HTMLModel",
          "model_module_version": "1.5.0",
          "state": {
            "_dom_classes": [],
            "_model_module": "@jupyter-widgets/controls",
            "_model_module_version": "1.5.0",
            "_model_name": "HTMLModel",
            "_view_count": null,
            "_view_module": "@jupyter-widgets/controls",
            "_view_module_version": "1.5.0",
            "_view_name": "HTMLView",
            "description": "",
            "description_tooltip": null,
            "layout": "IPY_MODEL_4ce5960ff7794bbf9a2da238b96893a6",
            "placeholder": "​",
            "style": "IPY_MODEL_9a00e5cf890b40d4a0a15b0498bc60d2",
            "value": "100%"
          }
        },
        "837043f1be1e4a799c79a517219fbe1e": {
          "model_module": "@jupyter-widgets/controls",
          "model_name": "FloatProgressModel",
          "model_module_version": "1.5.0",
          "state": {
            "_dom_classes": [],
            "_model_module": "@jupyter-widgets/controls",
            "_model_module_version": "1.5.0",
            "_model_name": "FloatProgressModel",
            "_view_count": null,
            "_view_module": "@jupyter-widgets/controls",
            "_view_module_version": "1.5.0",
            "_view_name": "ProgressView",
            "bar_style": "success",
            "description": "",
            "description_tooltip": null,
            "layout": "IPY_MODEL_6c73016a359a42478a6884e288ff2349",
            "max": 20,
            "min": 0,
            "orientation": "horizontal",
            "style": "IPY_MODEL_8257ecaa10134a15afa9f41e7b01603f",
            "value": 20
          }
        },
        "aad69156ae60406587ced4ce8e94eef7": {
          "model_module": "@jupyter-widgets/controls",
          "model_name": "HTMLModel",
          "model_module_version": "1.5.0",
          "state": {
            "_dom_classes": [],
            "_model_module": "@jupyter-widgets/controls",
            "_model_module_version": "1.5.0",
            "_model_name": "HTMLModel",
            "_view_count": null,
            "_view_module": "@jupyter-widgets/controls",
            "_view_module_version": "1.5.0",
            "_view_name": "HTMLView",
            "description": "",
            "description_tooltip": null,
            "layout": "IPY_MODEL_fc6af73858904abd84dbf853dabda64a",
            "placeholder": "​",
            "style": "IPY_MODEL_310aec10cba14d4cb73ec63e00211474",
            "value": " 20/20 [00:10&lt;00:00,  1.97it/s]"
          }
        },
        "c848ba973c9f4032b7c5358e006799f5": {
          "model_module": "@jupyter-widgets/base",
          "model_name": "LayoutModel",
          "model_module_version": "1.2.0",
          "state": {
            "_model_module": "@jupyter-widgets/base",
            "_model_module_version": "1.2.0",
            "_model_name": "LayoutModel",
            "_view_count": null,
            "_view_module": "@jupyter-widgets/base",
            "_view_module_version": "1.2.0",
            "_view_name": "LayoutView",
            "align_content": null,
            "align_items": null,
            "align_self": null,
            "border": null,
            "bottom": null,
            "display": null,
            "flex": null,
            "flex_flow": null,
            "grid_area": null,
            "grid_auto_columns": null,
            "grid_auto_flow": null,
            "grid_auto_rows": null,
            "grid_column": null,
            "grid_gap": null,
            "grid_row": null,
            "grid_template_areas": null,
            "grid_template_columns": null,
            "grid_template_rows": null,
            "height": null,
            "justify_content": null,
            "justify_items": null,
            "left": null,
            "margin": null,
            "max_height": null,
            "max_width": null,
            "min_height": null,
            "min_width": null,
            "object_fit": null,
            "object_position": null,
            "order": null,
            "overflow": null,
            "overflow_x": null,
            "overflow_y": null,
            "padding": null,
            "right": null,
            "top": null,
            "visibility": null,
            "width": null
          }
        },
        "4ce5960ff7794bbf9a2da238b96893a6": {
          "model_module": "@jupyter-widgets/base",
          "model_name": "LayoutModel",
          "model_module_version": "1.2.0",
          "state": {
            "_model_module": "@jupyter-widgets/base",
            "_model_module_version": "1.2.0",
            "_model_name": "LayoutModel",
            "_view_count": null,
            "_view_module": "@jupyter-widgets/base",
            "_view_module_version": "1.2.0",
            "_view_name": "LayoutView",
            "align_content": null,
            "align_items": null,
            "align_self": null,
            "border": null,
            "bottom": null,
            "display": null,
            "flex": null,
            "flex_flow": null,
            "grid_area": null,
            "grid_auto_columns": null,
            "grid_auto_flow": null,
            "grid_auto_rows": null,
            "grid_column": null,
            "grid_gap": null,
            "grid_row": null,
            "grid_template_areas": null,
            "grid_template_columns": null,
            "grid_template_rows": null,
            "height": null,
            "justify_content": null,
            "justify_items": null,
            "left": null,
            "margin": null,
            "max_height": null,
            "max_width": null,
            "min_height": null,
            "min_width": null,
            "object_fit": null,
            "object_position": null,
            "order": null,
            "overflow": null,
            "overflow_x": null,
            "overflow_y": null,
            "padding": null,
            "right": null,
            "top": null,
            "visibility": null,
            "width": null
          }
        },
        "9a00e5cf890b40d4a0a15b0498bc60d2": {
          "model_module": "@jupyter-widgets/controls",
          "model_name": "DescriptionStyleModel",
          "model_module_version": "1.5.0",
          "state": {
            "_model_module": "@jupyter-widgets/controls",
            "_model_module_version": "1.5.0",
            "_model_name": "DescriptionStyleModel",
            "_view_count": null,
            "_view_module": "@jupyter-widgets/base",
            "_view_module_version": "1.2.0",
            "_view_name": "StyleView",
            "description_width": ""
          }
        },
        "6c73016a359a42478a6884e288ff2349": {
          "model_module": "@jupyter-widgets/base",
          "model_name": "LayoutModel",
          "model_module_version": "1.2.0",
          "state": {
            "_model_module": "@jupyter-widgets/base",
            "_model_module_version": "1.2.0",
            "_model_name": "LayoutModel",
            "_view_count": null,
            "_view_module": "@jupyter-widgets/base",
            "_view_module_version": "1.2.0",
            "_view_name": "LayoutView",
            "align_content": null,
            "align_items": null,
            "align_self": null,
            "border": null,
            "bottom": null,
            "display": null,
            "flex": null,
            "flex_flow": null,
            "grid_area": null,
            "grid_auto_columns": null,
            "grid_auto_flow": null,
            "grid_auto_rows": null,
            "grid_column": null,
            "grid_gap": null,
            "grid_row": null,
            "grid_template_areas": null,
            "grid_template_columns": null,
            "grid_template_rows": null,
            "height": null,
            "justify_content": null,
            "justify_items": null,
            "left": null,
            "margin": null,
            "max_height": null,
            "max_width": null,
            "min_height": null,
            "min_width": null,
            "object_fit": null,
            "object_position": null,
            "order": null,
            "overflow": null,
            "overflow_x": null,
            "overflow_y": null,
            "padding": null,
            "right": null,
            "top": null,
            "visibility": null,
            "width": null
          }
        },
        "8257ecaa10134a15afa9f41e7b01603f": {
          "model_module": "@jupyter-widgets/controls",
          "model_name": "ProgressStyleModel",
          "model_module_version": "1.5.0",
          "state": {
            "_model_module": "@jupyter-widgets/controls",
            "_model_module_version": "1.5.0",
            "_model_name": "ProgressStyleModel",
            "_view_count": null,
            "_view_module": "@jupyter-widgets/base",
            "_view_module_version": "1.2.0",
            "_view_name": "StyleView",
            "bar_color": null,
            "description_width": ""
          }
        },
        "fc6af73858904abd84dbf853dabda64a": {
          "model_module": "@jupyter-widgets/base",
          "model_name": "LayoutModel",
          "model_module_version": "1.2.0",
          "state": {
            "_model_module": "@jupyter-widgets/base",
            "_model_module_version": "1.2.0",
            "_model_name": "LayoutModel",
            "_view_count": null,
            "_view_module": "@jupyter-widgets/base",
            "_view_module_version": "1.2.0",
            "_view_name": "LayoutView",
            "align_content": null,
            "align_items": null,
            "align_self": null,
            "border": null,
            "bottom": null,
            "display": null,
            "flex": null,
            "flex_flow": null,
            "grid_area": null,
            "grid_auto_columns": null,
            "grid_auto_flow": null,
            "grid_auto_rows": null,
            "grid_column": null,
            "grid_gap": null,
            "grid_row": null,
            "grid_template_areas": null,
            "grid_template_columns": null,
            "grid_template_rows": null,
            "height": null,
            "justify_content": null,
            "justify_items": null,
            "left": null,
            "margin": null,
            "max_height": null,
            "max_width": null,
            "min_height": null,
            "min_width": null,
            "object_fit": null,
            "object_position": null,
            "order": null,
            "overflow": null,
            "overflow_x": null,
            "overflow_y": null,
            "padding": null,
            "right": null,
            "top": null,
            "visibility": null,
            "width": null
          }
        },
        "310aec10cba14d4cb73ec63e00211474": {
          "model_module": "@jupyter-widgets/controls",
          "model_name": "DescriptionStyleModel",
          "model_module_version": "1.5.0",
          "state": {
            "_model_module": "@jupyter-widgets/controls",
            "_model_module_version": "1.5.0",
            "_model_name": "DescriptionStyleModel",
            "_view_count": null,
            "_view_module": "@jupyter-widgets/base",
            "_view_module_version": "1.2.0",
            "_view_name": "StyleView",
            "description_width": ""
          }
        }
      }
    },
    "accelerator": "GPU"
  },
  "nbformat": 4,
  "nbformat_minor": 0
}